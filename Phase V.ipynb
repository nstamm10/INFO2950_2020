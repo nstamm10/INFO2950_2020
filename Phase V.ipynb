{
 "cells": [
  {
   "cell_type": "markdown",
   "metadata": {},
   "source": [
    "# <u> Final NFL Spread Betting Model <u/>"
   ]
  },
  {
   "cell_type": "markdown",
   "metadata": {},
   "source": [
    "## Introduction"
   ]
  },
  {
   "cell_type": "markdown",
   "metadata": {},
   "source": [
    "I am using a historical dataset of NFL games (regular season and playoffs) to analyze the impacts of certain variables such as home team, playoff game, weather, etc. on the outcome of the spread in any given NFL game (the team that wins after the spreadd is accounted for)."
   ]
  },
  {
   "cell_type": "markdown",
   "metadata": {},
   "source": [
    "The spread of a football game is a number that allows fans to gamble on the outcome of the game while accounting for the skill differences between each teams. For example, if the best team in the league is playing the worst, the spread might be **-14**. This means that if I bet on the best team in the league, they must win by at more than 14 points for me to receive winnings. Conversely, I could bet on the worst team who would have the opposite spread of **+14**. In order to win this bet, the worst team would have to either win the game outright or lose by less than 14 points."
   ]
  },
  {
   "cell_type": "markdown",
   "metadata": {},
   "source": [
    "This concept is interesting to me because in the modern sports era, thousands of statistics are collected from every game. Since the spread is an arbitrary number set by casinos, it should be possible to find trends in the game statistics that can (with the right model) accurately predict the outcome of a given NFL spread."
   ]
  },
  {
   "cell_type": "markdown",
   "metadata": {},
   "source": [
    "My goal is for the model to beat random chance. The beauty of sports is that despite all the statistics and predictions that exist, there is still an enormous amount of randomness associated with the games, and especially the spreads. If I can build a model that is consistently better than random chance, the user of the model could turn a reliable profit by using it long-term."
   ]
  },
  {
   "cell_type": "markdown",
   "metadata": {},
   "source": [
    "#### Research Question & Findings"
   ]
  },
  {
   "cell_type": "markdown",
   "metadata": {},
   "source": [
    "Can I use historical data of NFL games to create a model that can accurately determine the probability that the team that is the favorite will cover the spread? And, can I use this model to create confidence thresholds that will allow me to make \"bets\" with certain confidence that I will win money in the long-term. "
   ]
  },
  {
   "cell_type": "markdown",
   "metadata": {},
   "source": [
    "I found that I was relatively successful in creating a model that can predict the winner of a given NFL game based on the spread to a determined accuracy threshold. When using one variable in the model, there were no significant results; however as I increased variables and complexity, I found that there are underlying relationships that can be used to predict."
   ]
  },
  {
   "cell_type": "markdown",
   "metadata": {},
   "source": [
    "## Data Description"
   ]
  },
  {
   "cell_type": "markdown",
   "metadata": {},
   "source": [
    "In the dataset, each observation represents an NFL game ordered by data, starting in 1966 and ending at the previous 2019-2020 season. Each column represents a specific attrbute of the game. For example, who was the home/away team?, which team was favorited?, what was the spread?, the weather of the game, etc."
   ]
  },
  {
   "cell_type": "markdown",
   "metadata": {},
   "source": [
    "This dataset was created so that I could analyze gambling trends in the data. I use the spread the columns as input variables that influene the output variable that I created - does the favorite cover?"
   ]
  },
  {
   "cell_type": "markdown",
   "metadata": {},
   "source": [
    "This data represents the entire population of NFL games since 1966. However, during preprocessing, I reduced the population to only games that contained data on the spread of the game because that was a main input variable that is necessary for my research question."
   ]
  },
  {
   "cell_type": "markdown",
   "metadata": {},
   "source": [
    "The relevant columns I am using in my dataset are as follows:\n",
    "- schedule_week (string): whether the game being played is the superbowl, conference, division, wildcardd, or weeks 1-17.\n",
    "- schedule_playoff (boolean): true/false value for whether the game is a playoff game.\n",
    "- team_home_id (string): the id symbol for the home team (ie. Green Bay Packers = GB).\n",
    "- team_away_id (string): the id symbol for the away team.\n",
    "- team_favorite_id (string): the id symbol for the team that is favorited (ie. their spread is negative).\n",
    "- expected_spread_favorite (negative integer): The spread of the team that is favorited in the particular game.\n",
    "- favorite_covered (booleaan): true/false value for whether the favorite covered.\n",
    "- weather_temperature (int): temperature (fahrenheit) of the stadium in which the game is being played. If it is being played in a dome, temperature is default set to 70 degrees.\n",
    "- weather_wind_mph (int): wind speed during the game in mph. If game is played in dome, wind speed is set to 0 mph.\n",
    "- who_covered (string): the id symbol for the team who covered."
   ]
  },
  {
   "cell_type": "markdown",
   "metadata": {},
   "source": [
    "The final dataset is a merged version of two datasets both downloaded from Kaggle. The two raw datasets can be found at https://cornell.box.com/s/43vygli52m76sn1hw68oby4y39ilxqf2 and https://cornell.box.com/s/pvestzdvfbai6eoygin1yh87o0r1heb8."
   ]
  },
  {
   "cell_type": "markdown",
   "metadata": {},
   "source": [
    "NFL spreads are not objective numbers rather each casino or sportsbook generates a slightly different line for each game. Therefore, the spreads in this dataset are not the only possible list of spreads for these NFL games. The data was most likely taken from a sportsbook API. There could be some bias in how the book generates the lines; however, this is not a major concern because it is in the book's best interest to generate the most fair possible spread. The rest of the data attributes are objective (ie. weather, who played, score, date, etc.)."
   ]
  },
  {
   "cell_type": "markdown",
   "metadata": {},
   "source": [
    "During my data cleaning phase, I removed columns that I did not deem to be necessary for analysis. I also combined columns and used data from attributes to make new columns that are more significant to exploration of my research question."
   ]
  },
  {
   "cell_type": "markdown",
   "metadata": {},
   "source": [
    "My datasets were created by Kaggle and can be found at this link: https://www.kaggle.com/tobycrabtree/nfl-scores-and-betting-data"
   ]
  },
  {
   "cell_type": "markdown",
   "metadata": {},
   "source": [
    "## Preregistration Statement"
   ]
  },
  {
   "cell_type": "markdown",
   "metadata": {},
   "source": [
    "One experiment I am going to run is to examine the relationship between the home team variable and the favorite_covered variable. I expect that there will be a positive relationship between these two variables. I am going to run a single logistic regression to explore this relationship because the output should be in between 0 and 1 depending on the confidence of the model."
   ]
  },
  {
   "cell_type": "markdown",
   "metadata": {},
   "source": [
    "The second experiment I am going to run is a multi-regression using home team, away team, weather, wind to attempt to predict which team is going to cover. I also want to develop a confidence percentage so that when I decide to implement my model, I want to explore the accuracy percentage only when the confidence of the prediction is greater than 60% or less than 40%."
   ]
  },
  {
   "cell_type": "markdown",
   "metadata": {},
   "source": [
    "## Data Analysis"
   ]
  },
  {
   "cell_type": "markdown",
   "metadata": {},
   "source": [
    "### Import Dataset and Packages"
   ]
  },
  {
   "cell_type": "code",
   "execution_count": 1,
   "metadata": {},
   "outputs": [],
   "source": [
    "import pandas as pd\n",
    "import numpy as nd\n",
    "import matplotlib.pyplot as plt\n",
    "import math\n",
    "from bs4 import BeautifulSoup\n",
    "from urllib.request import Request, urlopen\n",
    "from sklearn.linear_model import LinearRegression\n",
    "from scipy import stats\n",
    "from scipy.stats import poisson, ttest_ind\n",
    "from sklearn.linear_model import LogisticRegression\n",
    "from sklearn.model_selection import train_test_split"
   ]
  },
  {
   "cell_type": "code",
   "execution_count": 2,
   "metadata": {},
   "outputs": [],
   "source": [
    "nfl_spreadspoke = pd.read_csv('nfl_betting.csv')"
   ]
  },
  {
   "cell_type": "code",
   "execution_count": 3,
   "metadata": {},
   "outputs": [
    {
     "data": {
      "text/html": [
       "<div>\n",
       "<style scoped>\n",
       "    .dataframe tbody tr th:only-of-type {\n",
       "        vertical-align: middle;\n",
       "    }\n",
       "\n",
       "    .dataframe tbody tr th {\n",
       "        vertical-align: top;\n",
       "    }\n",
       "\n",
       "    .dataframe thead th {\n",
       "        text-align: right;\n",
       "    }\n",
       "</style>\n",
       "<table border=\"1\" class=\"dataframe\">\n",
       "  <thead>\n",
       "    <tr style=\"text-align: right;\">\n",
       "      <th></th>\n",
       "      <th>schedule_week</th>\n",
       "      <th>schedule_playoff</th>\n",
       "      <th>team_home_id</th>\n",
       "      <th>team_away_id</th>\n",
       "      <th>team_favorite_id</th>\n",
       "      <th>expected_spread_favorite</th>\n",
       "      <th>favorite_covered</th>\n",
       "      <th>weather_temperature</th>\n",
       "      <th>weather_wind_mph</th>\n",
       "      <th>who_covered</th>\n",
       "    </tr>\n",
       "  </thead>\n",
       "  <tbody>\n",
       "    <tr>\n",
       "      <td>0</td>\n",
       "      <td>Superbowl</td>\n",
       "      <td>True</td>\n",
       "      <td>GB</td>\n",
       "      <td>KC</td>\n",
       "      <td>GB</td>\n",
       "      <td>-14.0</td>\n",
       "      <td>True</td>\n",
       "      <td>54.0</td>\n",
       "      <td>7.0</td>\n",
       "      <td>GB</td>\n",
       "    </tr>\n",
       "    <tr>\n",
       "      <td>1</td>\n",
       "      <td>Superbowl</td>\n",
       "      <td>True</td>\n",
       "      <td>GB</td>\n",
       "      <td>LV</td>\n",
       "      <td>GB</td>\n",
       "      <td>-13.5</td>\n",
       "      <td>True</td>\n",
       "      <td>60.0</td>\n",
       "      <td>12.0</td>\n",
       "      <td>GB</td>\n",
       "    </tr>\n",
       "    <tr>\n",
       "      <td>2</td>\n",
       "      <td>Superbowl</td>\n",
       "      <td>True</td>\n",
       "      <td>IND</td>\n",
       "      <td>NYJ</td>\n",
       "      <td>IND</td>\n",
       "      <td>-18.0</td>\n",
       "      <td>False</td>\n",
       "      <td>66.0</td>\n",
       "      <td>12.0</td>\n",
       "      <td>NYJ</td>\n",
       "    </tr>\n",
       "    <tr>\n",
       "      <td>3</td>\n",
       "      <td>Superbowl</td>\n",
       "      <td>True</td>\n",
       "      <td>KC</td>\n",
       "      <td>MIN</td>\n",
       "      <td>MIN</td>\n",
       "      <td>-12.0</td>\n",
       "      <td>False</td>\n",
       "      <td>55.0</td>\n",
       "      <td>14.0</td>\n",
       "      <td>MIN</td>\n",
       "    </tr>\n",
       "    <tr>\n",
       "      <td>4</td>\n",
       "      <td>Superbowl</td>\n",
       "      <td>True</td>\n",
       "      <td>IND</td>\n",
       "      <td>DAL</td>\n",
       "      <td>IND</td>\n",
       "      <td>-2.5</td>\n",
       "      <td>True</td>\n",
       "      <td>59.0</td>\n",
       "      <td>11.0</td>\n",
       "      <td>IND</td>\n",
       "    </tr>\n",
       "  </tbody>\n",
       "</table>\n",
       "</div>"
      ],
      "text/plain": [
       "  schedule_week  schedule_playoff team_home_id team_away_id team_favorite_id  \\\n",
       "0     Superbowl              True           GB           KC               GB   \n",
       "1     Superbowl              True           GB           LV               GB   \n",
       "2     Superbowl              True          IND          NYJ              IND   \n",
       "3     Superbowl              True           KC          MIN              MIN   \n",
       "4     Superbowl              True          IND          DAL              IND   \n",
       "\n",
       "   expected_spread_favorite  favorite_covered  weather_temperature  \\\n",
       "0                     -14.0              True                 54.0   \n",
       "1                     -13.5              True                 60.0   \n",
       "2                     -18.0             False                 66.0   \n",
       "3                     -12.0             False                 55.0   \n",
       "4                      -2.5              True                 59.0   \n",
       "\n",
       "   weather_wind_mph who_covered  \n",
       "0               7.0          GB  \n",
       "1              12.0          GB  \n",
       "2              12.0         NYJ  \n",
       "3              14.0         MIN  \n",
       "4              11.0         IND  "
      ]
     },
     "execution_count": 3,
     "metadata": {},
     "output_type": "execute_result"
    }
   ],
   "source": [
    "nfl_spreadspoke.head()"
   ]
  },
  {
   "cell_type": "markdown",
   "metadata": {},
   "source": [
    "### <u> Exploratory <u/>"
   ]
  },
  {
   "cell_type": "code",
   "execution_count": 4,
   "metadata": {},
   "outputs": [
    {
     "data": {
      "text/plain": [
       "count    10199.000000\n",
       "mean        -5.379498\n",
       "std          3.431007\n",
       "min        -26.500000\n",
       "25%         -7.000000\n",
       "50%         -4.500000\n",
       "75%         -3.000000\n",
       "max          0.000000\n",
       "Name: expected_spread_favorite, dtype: float64"
      ]
     },
     "execution_count": 4,
     "metadata": {},
     "output_type": "execute_result"
    }
   ],
   "source": [
    "nfl_spreadspoke['expected_spread_favorite'].describe()"
   ]
  },
  {
   "cell_type": "code",
   "execution_count": 5,
   "metadata": {},
   "outputs": [],
   "source": [
    "home_favorite = \"{:.2%}\".format(sum(nfl_spreadspoke.team_favorite_id == nfl_spreadspoke.team_home_id) / len(nfl_spreadspoke))\n",
    "away_favorite = \"{:.2%}\".format(sum(nfl_spreadspoke.team_favorite_id == nfl_spreadspoke.team_away_id) / len(nfl_spreadspoke))\n",
    "favorite_covered = \"{:.2%}\".format(sum(nfl_spreadspoke.favorite_covered == True) / len(nfl_spreadspoke))"
   ]
  },
  {
   "cell_type": "code",
   "execution_count": 6,
   "metadata": {},
   "outputs": [],
   "source": [
    "home_cover_amount = 0\n",
    "away_cover_amount = 0\n",
    "for index, row in nfl_spreadspoke.iterrows():\n",
    "    if row['team_favorite_id'] == row['team_home_id']:\n",
    "        if row['favorite_covered']:\n",
    "            home_cover_amount += 1\n",
    "        else:\n",
    "            away_cover_amount += 1\n",
    "    else:\n",
    "        if row['favorite_covered'] == False:\n",
    "            home_cover_amount += 1\n",
    "        else:\n",
    "            away_cover_amount += 1"
   ]
  },
  {
   "cell_type": "code",
   "execution_count": 7,
   "metadata": {},
   "outputs": [],
   "source": [
    "home_cover = \"{:.2%}\".format(home_cover_amount / len(nfl_spreadspoke))\n",
    "away_cover = \"{:.2%}\".format(away_cover_amount / len(nfl_spreadspoke))"
   ]
  },
  {
   "cell_type": "code",
   "execution_count": 8,
   "metadata": {},
   "outputs": [
    {
     "name": "stdout",
     "output_type": "stream",
     "text": [
      "Home team is favored 66.12%\n",
      "Away team is favored 31.20%\n",
      "The favorite covers 46.85%\n",
      "Home team covers 49.70%\n",
      "Away team covers 50.30%\n"
     ]
    }
   ],
   "source": [
    "print(\"Home team is favored \" + home_favorite)\n",
    "print(\"Away team is favored \" + away_favorite)\n",
    "print(\"The favorite covers \" + favorite_covered)\n",
    "print(\"Home team covers \" + home_cover)\n",
    "print(\"Away team covers \" + away_cover)"
   ]
  },
  {
   "cell_type": "code",
   "execution_count": 9,
   "metadata": {},
   "outputs": [],
   "source": [
    "spreads = nd.unique(nfl_spreadspoke['expected_spread_favorite'])"
   ]
  },
  {
   "cell_type": "code",
   "execution_count": 10,
   "metadata": {},
   "outputs": [
    {
     "name": "stdout",
     "output_type": "stream",
     "text": [
      "Spread = -26.5\tNumGames = 1\tCover% = 0.00%\n",
      "\n",
      "Spread = -24.5\tNumGames = 1\tCover% = 0.00%\n",
      "\n",
      "Spread = -24.0\tNumGames = 1\tCover% = 0.00%\n",
      "\n",
      "Spread = -22.5\tNumGames = 1\tCover% = 0.00%\n",
      "\n",
      "Spread = -21.5\tNumGames = 1\tCover% = 100.00%\n",
      "\n",
      "Spread = -21.0\tNumGames = 1\tCover% = 0.00%\n",
      "\n",
      "Spread = -20.5\tNumGames = 2\tCover% = 0.00%\n",
      "\n",
      "Spread = -20.0\tNumGames = 3\tCover% = 66.67%\n",
      "\n",
      "Spread = -19.5\tNumGames = 1\tCover% = 0.00%\n",
      "\n",
      "Spread = -19.0\tNumGames = 2\tCover% = 0.00%\n",
      "\n",
      "Spread = -18.5\tNumGames = 3\tCover% = 66.67%\n",
      "\n",
      "Spread = -18.0\tNumGames = 9\tCover% = 33.33%\n",
      "\n",
      "Spread = -17.5\tNumGames = 5\tCover% = 40.00%\n",
      "\n",
      "Spread = -17.0\tNumGames = 24\tCover% = 50.00%\n",
      "\n",
      "Spread = -16.5\tNumGames = 18\tCover% = 44.44%\n",
      "\n",
      "Spread = -16.0\tNumGames = 20\tCover% = 50.00%\n",
      "\n",
      "Spread = -15.5\tNumGames = 16\tCover% = 62.50%\n",
      "\n",
      "Spread = -15.0\tNumGames = 23\tCover% = 43.48%\n",
      "\n",
      "Spread = -14.5\tNumGames = 51\tCover% = 45.10%\n",
      "\n",
      "Spread = -14.0\tNumGames = 91\tCover% = 41.76%\n",
      "\n",
      "Spread = -13.5\tNumGames = 107\tCover% = 42.99%\n",
      "\n",
      "Spread = -13.0\tNumGames = 107\tCover% = 53.27%\n",
      "\n",
      "Spread = -12.5\tNumGames = 50\tCover% = 46.00%\n",
      "\n",
      "Spread = -12.0\tNumGames = 69\tCover% = 42.03%\n",
      "\n",
      "Spread = -11.5\tNumGames = 57\tCover% = 45.61%\n",
      "\n",
      "Spread = -11.0\tNumGames = 121\tCover% = 43.80%\n",
      "\n",
      "Spread = -10.5\tNumGames = 155\tCover% = 49.03%\n",
      "\n",
      "Spread = -10.0\tNumGames = 291\tCover% = 42.27%\n",
      "\n",
      "Spread = -9.5\tNumGames = 193\tCover% = 53.37%\n",
      "\n",
      "Spread = -9.0\tNumGames = 255\tCover% = 45.88%\n",
      "\n",
      "Spread = -8.5\tNumGames = 165\tCover% = 44.24%\n",
      "\n",
      "Spread = -8.0\tNumGames = 231\tCover% = 49.35%\n",
      "\n",
      "Spread = -7.5\tNumGames = 312\tCover% = 51.28%\n",
      "\n",
      "Spread = -7.0\tNumGames = 726\tCover% = 45.45%\n",
      "\n",
      "Spread = -6.5\tNumGames = 500\tCover% = 48.60%\n",
      "\n",
      "Spread = -6.0\tNumGames = 566\tCover% = 47.00%\n",
      "\n",
      "Spread = -5.5\tNumGames = 345\tCover% = 48.70%\n",
      "\n",
      "Spread = -5.0\tNumGames = 316\tCover% = 48.10%\n",
      "\n",
      "Spread = -4.5\tNumGames = 358\tCover% = 49.44%\n",
      "\n",
      "Spread = -4.0\tNumGames = 564\tCover% = 48.23%\n",
      "\n",
      "Spread = -3.5\tNumGames = 801\tCover% = 47.69%\n",
      "\n",
      "Spread = -3.0\tNumGames = 1570\tCover% = 42.80%\n",
      "\n",
      "Spread = -2.5\tNumGames = 651\tCover% = 48.69%\n",
      "\n",
      "Spread = -2.0\tNumGames = 457\tCover% = 47.92%\n",
      "\n",
      "Spread = -1.5\tNumGames = 313\tCover% = 46.96%\n",
      "\n",
      "Spread = -1.0\tNumGames = 502\tCover% = 48.80%\n",
      "\n",
      "Spread = 0.0\tNumGames = 143\tCover% = 46.85%\n",
      "\n"
     ]
    }
   ],
   "source": [
    "for value in spreads:\n",
    "    cover = 0\n",
    "    count = 0\n",
    "    for i, row in nfl_spreadspoke.iterrows():\n",
    "        if abs(row['expected_spread_favorite'] - value) < 1e-10:\n",
    "            count +=1\n",
    "            if row['favorite_covered'] == True:\n",
    "                cover += 1\n",
    "    print(\"Spread = {}\\tNumGames = {}\\tCover% = {:.2%}\\n\".format(value, count, cover / count))"
   ]
  },
  {
   "cell_type": "code",
   "execution_count": 11,
   "metadata": {},
   "outputs": [
    {
     "data": {
      "image/png": "[encoded data removed]",
      "text/plain": [
       "<Figure size 432x288 with 1 Axes>"
      ]
     },
     "metadata": {
      "needs_background": "light"
     },
     "output_type": "display_data"
    }
   ],
   "source": [
    "plt.scatter(nfl_spreadspoke['expected_spread_favorite'], nfl_spreadspoke['weather_temperature'])\n",
    "plt.xlabel('Spread')\n",
    "plt.ylabel('Temperature')\n",
    "plt.title('Does the weather impact the spread?')\n",
    "plt.show()"
   ]
  },
  {
   "cell_type": "markdown",
   "metadata": {},
   "source": [
    "**In this context, I am testing the correlation and covariance of the spread amount and the temperature. Since the correlation is close to 0, I am assuming that the correlation is negligible. I think this assumption is fair because the spread is often set Tuesday before the game on Sunday which would make it unlikely that it accounts for weather.**"
   ]
  },
  {
   "cell_type": "code",
   "execution_count": 12,
   "metadata": {},
   "outputs": [
    {
     "name": "stdout",
     "output_type": "stream",
     "text": [
      "Covariance = 2.89\n",
      "Correlation = 0.06\n"
     ]
    }
   ],
   "source": [
    "print(\"Covariance = {:.2f}\\nCorrelation = {:.2f}\".format(nfl_spreadspoke['expected_spread_favorite'].cov(nfl_spreadspoke['weather_temperature']), nfl_spreadspoke['expected_spread_favorite'].corr(nfl_spreadspoke['weather_temperature'])))"
   ]
  },
  {
   "cell_type": "code",
   "execution_count": 13,
   "metadata": {
    "scrolled": true
   },
   "outputs": [
    {
     "data": {
      "image/png": "[encoded data removed]",
      "text/plain": [
       "<Figure size 432x288 with 1 Axes>"
      ]
     },
     "metadata": {
      "needs_background": "light"
     },
     "output_type": "display_data"
    }
   ],
   "source": [
    "plt.hist(nfl_spreadspoke['expected_spread_favorite'], bins=20)\n",
    "plt.xlabel('Spread')\n",
    "plt.ylabel('Count')\n",
    "plt.title('How often do spreads occur in NFL games?')\n",
    "plt.show()"
   ]
  },
  {
   "cell_type": "code",
   "execution_count": 14,
   "metadata": {},
   "outputs": [],
   "source": [
    "home_covered_spreads_fav = []\n",
    "home_covered_spreads_dog = []\n",
    "away_covered_spreads_fav = []\n",
    "away_covered_spreads_dog = []\n",
    "\n",
    "for index, row in nfl_spreadspoke.iterrows():\n",
    "    if row['team_home_id'] == row['team_favorite_id'] and row['favorite_covered'] == True:\n",
    "            home_covered_spreads_fav.append(row['expected_spread_favorite'])\n",
    "    elif row['team_home_id'] == row['team_favorite_id'] and row['favorite_covered'] == False:\n",
    "        away_covered_spreads_dog.append(row['expected_spread_favorite'])\n",
    "    elif row['team_away_id'] == row['team_favorite_id'] and row['favorite_covered'] == True:\n",
    "        away_covered_spreads_fav.append(row['expected_spread_favorite'])\n",
    "    elif row['team_away_id'] == row['team_favorite_id'] and row['favorite_covered'] == False:\n",
    "        home_covered_spreads_dog.append(row['expected_spread_favorite'])"
   ]
  },
  {
   "cell_type": "code",
   "execution_count": 15,
   "metadata": {
    "scrolled": true
   },
   "outputs": [
    {
     "data": {
      "image/png": "[encoded data removed]",
      "text/plain": [
       "<Figure size 432x288 with 1 Axes>"
      ]
     },
     "metadata": {
      "needs_background": "light"
     },
     "output_type": "display_data"
    }
   ],
   "source": [
    "plt.hist([home_covered_spreads_fav,home_covered_spreads_dog,away_covered_spreads_fav,away_covered_spreads_dog], bins = 8, label=['Home team is fav and covers', 'Home team is underdog and covers', 'Away team is fav and covers', 'Away team is underdog and covers'])\n",
    "plt.xlabel('Spread')\n",
    "plt.ylabel('Frequency Covered')\n",
    "plt.title('Who covers the spread?')\n",
    "plt.legend()\n",
    "plt.show()"
   ]
  },
  {
   "cell_type": "markdown",
   "metadata": {},
   "source": [
    "Takeaway from this graph: It is most common for the home team to be favorited and cover or for the away team to be an underdog and cover"
   ]
  },
  {
   "cell_type": "code",
   "execution_count": 16,
   "metadata": {},
   "outputs": [],
   "source": [
    "most_covered = nfl_spreadspoke['who_covered'].value_counts()[:5].index.tolist()\n",
    "freq_most_covered = [row['who_covered'] for index, row in nfl_spreadspoke.iterrows() if row['who_covered'] in most_covered]\n",
    "\n",
    "least_covered = nfl_spreadspoke['who_covered'].value_counts()[27:].index.tolist()\n",
    "freq_least_covered = [row['who_covered'] for index, row in nfl_spreadspoke.iterrows() if row['who_covered'] in least_covered]\n"
   ]
  },
  {
   "cell_type": "code",
   "execution_count": 17,
   "metadata": {},
   "outputs": [
    {
     "data": {
      "image/png": "[encoded data removed]",
      "text/plain": [
       "<Figure size 432x288 with 1 Axes>"
      ]
     },
     "metadata": {
      "needs_background": "light"
     },
     "output_type": "display_data"
    }
   ],
   "source": [
    "most_covered = nfl_spreadspoke\n",
    "\n",
    "\n",
    "plt.hist([freq_most_covered, freq_least_covered])\n",
    "plt.xlabel('Spread')\n",
    "plt.ylabel('Frequency Covered')\n",
    "plt.title('Which team is the best vs the spread?')\n",
    "plt.show()"
   ]
  },
  {
   "cell_type": "markdown",
   "metadata": {},
   "source": [
    "### <u> Models <u/>"
   ]
  },
  {
   "cell_type": "code",
   "execution_count": 18,
   "metadata": {},
   "outputs": [
    {
     "data": {
      "text/html": [
       "<div>\n",
       "<style scoped>\n",
       "    .dataframe tbody tr th:only-of-type {\n",
       "        vertical-align: middle;\n",
       "    }\n",
       "\n",
       "    .dataframe tbody tr th {\n",
       "        vertical-align: top;\n",
       "    }\n",
       "\n",
       "    .dataframe thead th {\n",
       "        text-align: right;\n",
       "    }\n",
       "</style>\n",
       "<table border=\"1\" class=\"dataframe\">\n",
       "  <thead>\n",
       "    <tr style=\"text-align: right;\">\n",
       "      <th></th>\n",
       "      <th>schedule_week</th>\n",
       "      <th>schedule_playoff</th>\n",
       "      <th>team_home_id</th>\n",
       "      <th>team_away_id</th>\n",
       "      <th>team_favorite_id</th>\n",
       "      <th>expected_spread_favorite</th>\n",
       "      <th>favorite_covered</th>\n",
       "      <th>weather_temperature</th>\n",
       "      <th>weather_wind_mph</th>\n",
       "      <th>who_covered</th>\n",
       "    </tr>\n",
       "  </thead>\n",
       "  <tbody>\n",
       "    <tr>\n",
       "      <td>0</td>\n",
       "      <td>Superbowl</td>\n",
       "      <td>True</td>\n",
       "      <td>GB</td>\n",
       "      <td>KC</td>\n",
       "      <td>GB</td>\n",
       "      <td>-14.0</td>\n",
       "      <td>True</td>\n",
       "      <td>54.0</td>\n",
       "      <td>7.0</td>\n",
       "      <td>GB</td>\n",
       "    </tr>\n",
       "    <tr>\n",
       "      <td>1</td>\n",
       "      <td>Superbowl</td>\n",
       "      <td>True</td>\n",
       "      <td>GB</td>\n",
       "      <td>LV</td>\n",
       "      <td>GB</td>\n",
       "      <td>-13.5</td>\n",
       "      <td>True</td>\n",
       "      <td>60.0</td>\n",
       "      <td>12.0</td>\n",
       "      <td>GB</td>\n",
       "    </tr>\n",
       "    <tr>\n",
       "      <td>2</td>\n",
       "      <td>Superbowl</td>\n",
       "      <td>True</td>\n",
       "      <td>IND</td>\n",
       "      <td>NYJ</td>\n",
       "      <td>IND</td>\n",
       "      <td>-18.0</td>\n",
       "      <td>False</td>\n",
       "      <td>66.0</td>\n",
       "      <td>12.0</td>\n",
       "      <td>NYJ</td>\n",
       "    </tr>\n",
       "    <tr>\n",
       "      <td>3</td>\n",
       "      <td>Superbowl</td>\n",
       "      <td>True</td>\n",
       "      <td>KC</td>\n",
       "      <td>MIN</td>\n",
       "      <td>MIN</td>\n",
       "      <td>-12.0</td>\n",
       "      <td>False</td>\n",
       "      <td>55.0</td>\n",
       "      <td>14.0</td>\n",
       "      <td>MIN</td>\n",
       "    </tr>\n",
       "    <tr>\n",
       "      <td>4</td>\n",
       "      <td>Superbowl</td>\n",
       "      <td>True</td>\n",
       "      <td>IND</td>\n",
       "      <td>DAL</td>\n",
       "      <td>IND</td>\n",
       "      <td>-2.5</td>\n",
       "      <td>True</td>\n",
       "      <td>59.0</td>\n",
       "      <td>11.0</td>\n",
       "      <td>IND</td>\n",
       "    </tr>\n",
       "  </tbody>\n",
       "</table>\n",
       "</div>"
      ],
      "text/plain": [
       "  schedule_week  schedule_playoff team_home_id team_away_id team_favorite_id  \\\n",
       "0     Superbowl              True           GB           KC               GB   \n",
       "1     Superbowl              True           GB           LV               GB   \n",
       "2     Superbowl              True          IND          NYJ              IND   \n",
       "3     Superbowl              True           KC          MIN              MIN   \n",
       "4     Superbowl              True          IND          DAL              IND   \n",
       "\n",
       "   expected_spread_favorite  favorite_covered  weather_temperature  \\\n",
       "0                     -14.0              True                 54.0   \n",
       "1                     -13.5              True                 60.0   \n",
       "2                     -18.0             False                 66.0   \n",
       "3                     -12.0             False                 55.0   \n",
       "4                      -2.5              True                 59.0   \n",
       "\n",
       "   weather_wind_mph who_covered  \n",
       "0               7.0          GB  \n",
       "1              12.0          GB  \n",
       "2              12.0         NYJ  \n",
       "3              14.0         MIN  \n",
       "4              11.0         IND  "
      ]
     },
     "execution_count": 18,
     "metadata": {},
     "output_type": "execute_result"
    }
   ],
   "source": [
    "nfl_spreadspoke.head()"
   ]
  },
  {
   "cell_type": "markdown",
   "metadata": {},
   "source": [
    "#### The first model I want to make is a linear regression of the team_favorite_id variable and the who_covered variable"
   ]
  },
  {
   "cell_type": "markdown",
   "metadata": {},
   "source": [
    "**I need to create a mapping that can map the qualitative team variables to numerical values**"
   ]
  },
  {
   "cell_type": "markdown",
   "metadata": {},
   "source": [
    "**To do this I can use a new data frame that can match these values**"
   ]
  },
  {
   "cell_type": "code",
   "execution_count": 19,
   "metadata": {},
   "outputs": [
    {
     "data": {
      "text/html": [
       "<div>\n",
       "<style scoped>\n",
       "    .dataframe tbody tr th:only-of-type {\n",
       "        vertical-align: middle;\n",
       "    }\n",
       "\n",
       "    .dataframe tbody tr th {\n",
       "        vertical-align: top;\n",
       "    }\n",
       "\n",
       "    .dataframe thead th {\n",
       "        text-align: right;\n",
       "    }\n",
       "</style>\n",
       "<table border=\"1\" class=\"dataframe\">\n",
       "  <thead>\n",
       "    <tr style=\"text-align: right;\">\n",
       "      <th></th>\n",
       "      <th>ID</th>\n",
       "      <th>Name</th>\n",
       "      <th>Abbreviation</th>\n",
       "      <th>Conference</th>\n",
       "      <th>Division</th>\n",
       "    </tr>\n",
       "  </thead>\n",
       "  <tbody>\n",
       "    <tr>\n",
       "      <td>0</td>\n",
       "      <td>1</td>\n",
       "      <td>Arizona Cardinals</td>\n",
       "      <td>ARI</td>\n",
       "      <td>NFC</td>\n",
       "      <td>West</td>\n",
       "    </tr>\n",
       "    <tr>\n",
       "      <td>1</td>\n",
       "      <td>2</td>\n",
       "      <td>Atlanta Falcons</td>\n",
       "      <td>ATL</td>\n",
       "      <td>NFC</td>\n",
       "      <td>South</td>\n",
       "    </tr>\n",
       "    <tr>\n",
       "      <td>2</td>\n",
       "      <td>3</td>\n",
       "      <td>Baltimore Ravens</td>\n",
       "      <td>BAL</td>\n",
       "      <td>AFC</td>\n",
       "      <td>North</td>\n",
       "    </tr>\n",
       "    <tr>\n",
       "      <td>3</td>\n",
       "      <td>4</td>\n",
       "      <td>Buffalo Bills</td>\n",
       "      <td>BUF</td>\n",
       "      <td>AFC</td>\n",
       "      <td>East</td>\n",
       "    </tr>\n",
       "    <tr>\n",
       "      <td>4</td>\n",
       "      <td>5</td>\n",
       "      <td>Carolina Panthers</td>\n",
       "      <td>CAR</td>\n",
       "      <td>NFC</td>\n",
       "      <td>South</td>\n",
       "    </tr>\n",
       "  </tbody>\n",
       "</table>\n",
       "</div>"
      ],
      "text/plain": [
       "   ID               Name Abbreviation Conference Division\n",
       "0   1  Arizona Cardinals          ARI        NFC     West\n",
       "1   2    Atlanta Falcons          ATL        NFC    South\n",
       "2   3   Baltimore Ravens          BAL        AFC    North\n",
       "3   4      Buffalo Bills          BUF        AFC     East\n",
       "4   5  Carolina Panthers          CAR        NFC    South"
      ]
     },
     "execution_count": 19,
     "metadata": {},
     "output_type": "execute_result"
    }
   ],
   "source": [
    "teams = pd.read_csv('nfl_teams.csv')\n",
    "teams.head()"
   ]
  },
  {
   "cell_type": "code",
   "execution_count": 20,
   "metadata": {},
   "outputs": [
    {
     "data": {
      "text/html": [
       "<div>\n",
       "<style scoped>\n",
       "    .dataframe tbody tr th:only-of-type {\n",
       "        vertical-align: middle;\n",
       "    }\n",
       "\n",
       "    .dataframe tbody tr th {\n",
       "        vertical-align: top;\n",
       "    }\n",
       "\n",
       "    .dataframe thead th {\n",
       "        text-align: right;\n",
       "    }\n",
       "</style>\n",
       "<table border=\"1\" class=\"dataframe\">\n",
       "  <thead>\n",
       "    <tr style=\"text-align: right;\">\n",
       "      <th></th>\n",
       "      <th>home_team_num</th>\n",
       "      <th>team_home_id</th>\n",
       "    </tr>\n",
       "  </thead>\n",
       "  <tbody>\n",
       "    <tr>\n",
       "      <td>0</td>\n",
       "      <td>1</td>\n",
       "      <td>ARI</td>\n",
       "    </tr>\n",
       "    <tr>\n",
       "      <td>1</td>\n",
       "      <td>2</td>\n",
       "      <td>ATL</td>\n",
       "    </tr>\n",
       "    <tr>\n",
       "      <td>2</td>\n",
       "      <td>3</td>\n",
       "      <td>BAL</td>\n",
       "    </tr>\n",
       "    <tr>\n",
       "      <td>3</td>\n",
       "      <td>4</td>\n",
       "      <td>BUF</td>\n",
       "    </tr>\n",
       "    <tr>\n",
       "      <td>4</td>\n",
       "      <td>5</td>\n",
       "      <td>CAR</td>\n",
       "    </tr>\n",
       "  </tbody>\n",
       "</table>\n",
       "</div>"
      ],
      "text/plain": [
       "   home_team_num team_home_id\n",
       "0              1          ARI\n",
       "1              2          ATL\n",
       "2              3          BAL\n",
       "3              4          BUF\n",
       "4              5          CAR"
      ]
     },
     "execution_count": 20,
     "metadata": {},
     "output_type": "execute_result"
    }
   ],
   "source": [
    "teams = teams[['ID', 'Abbreviation']]\n",
    "teams = teams.rename(columns={'ID': 'home_team_num','Abbreviation': 'team_home_id'})\n",
    "teams.head()"
   ]
  },
  {
   "cell_type": "code",
   "execution_count": 21,
   "metadata": {},
   "outputs": [
    {
     "data": {
      "text/html": [
       "<div>\n",
       "<style scoped>\n",
       "    .dataframe tbody tr th:only-of-type {\n",
       "        vertical-align: middle;\n",
       "    }\n",
       "\n",
       "    .dataframe tbody tr th {\n",
       "        vertical-align: top;\n",
       "    }\n",
       "\n",
       "    .dataframe thead th {\n",
       "        text-align: right;\n",
       "    }\n",
       "</style>\n",
       "<table border=\"1\" class=\"dataframe\">\n",
       "  <thead>\n",
       "    <tr style=\"text-align: right;\">\n",
       "      <th></th>\n",
       "      <th>schedule_week</th>\n",
       "      <th>schedule_playoff</th>\n",
       "      <th>team_home_id</th>\n",
       "      <th>team_away_id</th>\n",
       "      <th>team_favorite_id</th>\n",
       "      <th>expected_spread_favorite</th>\n",
       "      <th>favorite_covered</th>\n",
       "      <th>weather_temperature</th>\n",
       "      <th>weather_wind_mph</th>\n",
       "      <th>who_covered</th>\n",
       "      <th>home_team_num</th>\n",
       "    </tr>\n",
       "  </thead>\n",
       "  <tbody>\n",
       "    <tr>\n",
       "      <td>0</td>\n",
       "      <td>Superbowl</td>\n",
       "      <td>True</td>\n",
       "      <td>GB</td>\n",
       "      <td>KC</td>\n",
       "      <td>GB</td>\n",
       "      <td>-14.0</td>\n",
       "      <td>True</td>\n",
       "      <td>54.0</td>\n",
       "      <td>7.0</td>\n",
       "      <td>GB</td>\n",
       "      <td>12</td>\n",
       "    </tr>\n",
       "    <tr>\n",
       "      <td>1</td>\n",
       "      <td>Superbowl</td>\n",
       "      <td>True</td>\n",
       "      <td>GB</td>\n",
       "      <td>LV</td>\n",
       "      <td>GB</td>\n",
       "      <td>-13.5</td>\n",
       "      <td>True</td>\n",
       "      <td>60.0</td>\n",
       "      <td>12.0</td>\n",
       "      <td>GB</td>\n",
       "      <td>12</td>\n",
       "    </tr>\n",
       "    <tr>\n",
       "      <td>2</td>\n",
       "      <td>Superbowl</td>\n",
       "      <td>True</td>\n",
       "      <td>IND</td>\n",
       "      <td>NYJ</td>\n",
       "      <td>IND</td>\n",
       "      <td>-18.0</td>\n",
       "      <td>False</td>\n",
       "      <td>66.0</td>\n",
       "      <td>12.0</td>\n",
       "      <td>NYJ</td>\n",
       "      <td>14</td>\n",
       "    </tr>\n",
       "    <tr>\n",
       "      <td>3</td>\n",
       "      <td>Superbowl</td>\n",
       "      <td>True</td>\n",
       "      <td>KC</td>\n",
       "      <td>MIN</td>\n",
       "      <td>MIN</td>\n",
       "      <td>-12.0</td>\n",
       "      <td>False</td>\n",
       "      <td>55.0</td>\n",
       "      <td>14.0</td>\n",
       "      <td>MIN</td>\n",
       "      <td>16</td>\n",
       "    </tr>\n",
       "    <tr>\n",
       "      <td>4</td>\n",
       "      <td>Superbowl</td>\n",
       "      <td>True</td>\n",
       "      <td>IND</td>\n",
       "      <td>DAL</td>\n",
       "      <td>IND</td>\n",
       "      <td>-2.5</td>\n",
       "      <td>True</td>\n",
       "      <td>59.0</td>\n",
       "      <td>11.0</td>\n",
       "      <td>IND</td>\n",
       "      <td>14</td>\n",
       "    </tr>\n",
       "  </tbody>\n",
       "</table>\n",
       "</div>"
      ],
      "text/plain": [
       "  schedule_week  schedule_playoff team_home_id team_away_id team_favorite_id  \\\n",
       "0     Superbowl              True           GB           KC               GB   \n",
       "1     Superbowl              True           GB           LV               GB   \n",
       "2     Superbowl              True          IND          NYJ              IND   \n",
       "3     Superbowl              True           KC          MIN              MIN   \n",
       "4     Superbowl              True          IND          DAL              IND   \n",
       "\n",
       "   expected_spread_favorite  favorite_covered  weather_temperature  \\\n",
       "0                     -14.0              True                 54.0   \n",
       "1                     -13.5              True                 60.0   \n",
       "2                     -18.0             False                 66.0   \n",
       "3                     -12.0             False                 55.0   \n",
       "4                      -2.5              True                 59.0   \n",
       "\n",
       "   weather_wind_mph who_covered  home_team_num  \n",
       "0               7.0          GB             12  \n",
       "1              12.0          GB             12  \n",
       "2              12.0         NYJ             14  \n",
       "3              14.0         MIN             16  \n",
       "4              11.0         IND             14  "
      ]
     },
     "execution_count": 21,
     "metadata": {},
     "output_type": "execute_result"
    }
   ],
   "source": [
    "nfl_spreadspoke = pd.merge(nfl_spreadspoke, teams, how='left', on='team_home_id')\n",
    "nfl_spreadspoke.head()"
   ]
  },
  {
   "cell_type": "code",
   "execution_count": 22,
   "metadata": {},
   "outputs": [
    {
     "data": {
      "text/html": [
       "<div>\n",
       "<style scoped>\n",
       "    .dataframe tbody tr th:only-of-type {\n",
       "        vertical-align: middle;\n",
       "    }\n",
       "\n",
       "    .dataframe tbody tr th {\n",
       "        vertical-align: top;\n",
       "    }\n",
       "\n",
       "    .dataframe thead th {\n",
       "        text-align: right;\n",
       "    }\n",
       "</style>\n",
       "<table border=\"1\" class=\"dataframe\">\n",
       "  <thead>\n",
       "    <tr style=\"text-align: right;\">\n",
       "      <th></th>\n",
       "      <th>away_team_num</th>\n",
       "      <th>team_away_id</th>\n",
       "    </tr>\n",
       "  </thead>\n",
       "  <tbody>\n",
       "    <tr>\n",
       "      <td>0</td>\n",
       "      <td>1</td>\n",
       "      <td>ARI</td>\n",
       "    </tr>\n",
       "    <tr>\n",
       "      <td>1</td>\n",
       "      <td>2</td>\n",
       "      <td>ATL</td>\n",
       "    </tr>\n",
       "    <tr>\n",
       "      <td>2</td>\n",
       "      <td>3</td>\n",
       "      <td>BAL</td>\n",
       "    </tr>\n",
       "    <tr>\n",
       "      <td>3</td>\n",
       "      <td>4</td>\n",
       "      <td>BUF</td>\n",
       "    </tr>\n",
       "    <tr>\n",
       "      <td>4</td>\n",
       "      <td>5</td>\n",
       "      <td>CAR</td>\n",
       "    </tr>\n",
       "  </tbody>\n",
       "</table>\n",
       "</div>"
      ],
      "text/plain": [
       "   away_team_num team_away_id\n",
       "0              1          ARI\n",
       "1              2          ATL\n",
       "2              3          BAL\n",
       "3              4          BUF\n",
       "4              5          CAR"
      ]
     },
     "execution_count": 22,
     "metadata": {},
     "output_type": "execute_result"
    }
   ],
   "source": [
    "teams = teams.rename(columns={'home_team_num': 'away_team_num','team_home_id': 'team_away_id'})\n",
    "teams.head()"
   ]
  },
  {
   "cell_type": "code",
   "execution_count": 23,
   "metadata": {
    "scrolled": true
   },
   "outputs": [
    {
     "data": {
      "text/html": [
       "<div>\n",
       "<style scoped>\n",
       "    .dataframe tbody tr th:only-of-type {\n",
       "        vertical-align: middle;\n",
       "    }\n",
       "\n",
       "    .dataframe tbody tr th {\n",
       "        vertical-align: top;\n",
       "    }\n",
       "\n",
       "    .dataframe thead th {\n",
       "        text-align: right;\n",
       "    }\n",
       "</style>\n",
       "<table border=\"1\" class=\"dataframe\">\n",
       "  <thead>\n",
       "    <tr style=\"text-align: right;\">\n",
       "      <th></th>\n",
       "      <th>schedule_week</th>\n",
       "      <th>schedule_playoff</th>\n",
       "      <th>team_home_id</th>\n",
       "      <th>team_away_id</th>\n",
       "      <th>team_favorite_id</th>\n",
       "      <th>expected_spread_favorite</th>\n",
       "      <th>favorite_covered</th>\n",
       "      <th>weather_temperature</th>\n",
       "      <th>weather_wind_mph</th>\n",
       "      <th>who_covered</th>\n",
       "      <th>home_team_num</th>\n",
       "      <th>away_team_num</th>\n",
       "    </tr>\n",
       "  </thead>\n",
       "  <tbody>\n",
       "    <tr>\n",
       "      <td>0</td>\n",
       "      <td>Superbowl</td>\n",
       "      <td>True</td>\n",
       "      <td>GB</td>\n",
       "      <td>KC</td>\n",
       "      <td>GB</td>\n",
       "      <td>-14.0</td>\n",
       "      <td>True</td>\n",
       "      <td>54.0</td>\n",
       "      <td>7.0</td>\n",
       "      <td>GB</td>\n",
       "      <td>12</td>\n",
       "      <td>16</td>\n",
       "    </tr>\n",
       "    <tr>\n",
       "      <td>1</td>\n",
       "      <td>Superbowl</td>\n",
       "      <td>True</td>\n",
       "      <td>GB</td>\n",
       "      <td>LV</td>\n",
       "      <td>GB</td>\n",
       "      <td>-13.5</td>\n",
       "      <td>True</td>\n",
       "      <td>60.0</td>\n",
       "      <td>12.0</td>\n",
       "      <td>GB</td>\n",
       "      <td>12</td>\n",
       "      <td>23</td>\n",
       "    </tr>\n",
       "    <tr>\n",
       "      <td>2</td>\n",
       "      <td>Superbowl</td>\n",
       "      <td>True</td>\n",
       "      <td>IND</td>\n",
       "      <td>NYJ</td>\n",
       "      <td>IND</td>\n",
       "      <td>-18.0</td>\n",
       "      <td>False</td>\n",
       "      <td>66.0</td>\n",
       "      <td>12.0</td>\n",
       "      <td>NYJ</td>\n",
       "      <td>14</td>\n",
       "      <td>22</td>\n",
       "    </tr>\n",
       "    <tr>\n",
       "      <td>3</td>\n",
       "      <td>Superbowl</td>\n",
       "      <td>True</td>\n",
       "      <td>KC</td>\n",
       "      <td>MIN</td>\n",
       "      <td>MIN</td>\n",
       "      <td>-12.0</td>\n",
       "      <td>False</td>\n",
       "      <td>55.0</td>\n",
       "      <td>14.0</td>\n",
       "      <td>MIN</td>\n",
       "      <td>16</td>\n",
       "      <td>18</td>\n",
       "    </tr>\n",
       "    <tr>\n",
       "      <td>4</td>\n",
       "      <td>Superbowl</td>\n",
       "      <td>True</td>\n",
       "      <td>IND</td>\n",
       "      <td>DAL</td>\n",
       "      <td>IND</td>\n",
       "      <td>-2.5</td>\n",
       "      <td>True</td>\n",
       "      <td>59.0</td>\n",
       "      <td>11.0</td>\n",
       "      <td>IND</td>\n",
       "      <td>14</td>\n",
       "      <td>9</td>\n",
       "    </tr>\n",
       "  </tbody>\n",
       "</table>\n",
       "</div>"
      ],
      "text/plain": [
       "  schedule_week  schedule_playoff team_home_id team_away_id team_favorite_id  \\\n",
       "0     Superbowl              True           GB           KC               GB   \n",
       "1     Superbowl              True           GB           LV               GB   \n",
       "2     Superbowl              True          IND          NYJ              IND   \n",
       "3     Superbowl              True           KC          MIN              MIN   \n",
       "4     Superbowl              True          IND          DAL              IND   \n",
       "\n",
       "   expected_spread_favorite  favorite_covered  weather_temperature  \\\n",
       "0                     -14.0              True                 54.0   \n",
       "1                     -13.5              True                 60.0   \n",
       "2                     -18.0             False                 66.0   \n",
       "3                     -12.0             False                 55.0   \n",
       "4                      -2.5              True                 59.0   \n",
       "\n",
       "   weather_wind_mph who_covered  home_team_num  away_team_num  \n",
       "0               7.0          GB             12             16  \n",
       "1              12.0          GB             12             23  \n",
       "2              12.0         NYJ             14             22  \n",
       "3              14.0         MIN             16             18  \n",
       "4              11.0         IND             14              9  "
      ]
     },
     "execution_count": 23,
     "metadata": {},
     "output_type": "execute_result"
    }
   ],
   "source": [
    "nfl_spreadspoke = pd.merge(nfl_spreadspoke, teams, how='left', on='team_away_id')\n",
    "nfl_spreadspoke.head()"
   ]
  },
  {
   "cell_type": "code",
   "execution_count": 24,
   "metadata": {},
   "outputs": [
    {
     "data": {
      "text/html": [
       "<div>\n",
       "<style scoped>\n",
       "    .dataframe tbody tr th:only-of-type {\n",
       "        vertical-align: middle;\n",
       "    }\n",
       "\n",
       "    .dataframe tbody tr th {\n",
       "        vertical-align: top;\n",
       "    }\n",
       "\n",
       "    .dataframe thead th {\n",
       "        text-align: right;\n",
       "    }\n",
       "</style>\n",
       "<table border=\"1\" class=\"dataframe\">\n",
       "  <thead>\n",
       "    <tr style=\"text-align: right;\">\n",
       "      <th></th>\n",
       "      <th>favorite_num</th>\n",
       "      <th>team_favorite_id</th>\n",
       "    </tr>\n",
       "  </thead>\n",
       "  <tbody>\n",
       "    <tr>\n",
       "      <td>0</td>\n",
       "      <td>1</td>\n",
       "      <td>ARI</td>\n",
       "    </tr>\n",
       "    <tr>\n",
       "      <td>1</td>\n",
       "      <td>2</td>\n",
       "      <td>ATL</td>\n",
       "    </tr>\n",
       "    <tr>\n",
       "      <td>2</td>\n",
       "      <td>3</td>\n",
       "      <td>BAL</td>\n",
       "    </tr>\n",
       "    <tr>\n",
       "      <td>3</td>\n",
       "      <td>4</td>\n",
       "      <td>BUF</td>\n",
       "    </tr>\n",
       "    <tr>\n",
       "      <td>4</td>\n",
       "      <td>5</td>\n",
       "      <td>CAR</td>\n",
       "    </tr>\n",
       "  </tbody>\n",
       "</table>\n",
       "</div>"
      ],
      "text/plain": [
       "   favorite_num team_favorite_id\n",
       "0             1              ARI\n",
       "1             2              ATL\n",
       "2             3              BAL\n",
       "3             4              BUF\n",
       "4             5              CAR"
      ]
     },
     "execution_count": 24,
     "metadata": {},
     "output_type": "execute_result"
    }
   ],
   "source": [
    "teams = teams.rename(columns={'away_team_num': 'favorite_num','team_away_id': 'team_favorite_id'})\n",
    "teams.head()"
   ]
  },
  {
   "cell_type": "code",
   "execution_count": 25,
   "metadata": {},
   "outputs": [
    {
     "name": "stdout",
     "output_type": "stream",
     "text": [
      "    favorite_num team_favorite_id\n",
      "0              1              ARI\n",
      "1              2              ATL\n",
      "2              3              BAL\n",
      "3              4              BUF\n",
      "4              5              CAR\n",
      "5              6              CHI\n",
      "6              7              CIN\n",
      "7              8              CLE\n",
      "8              9              DAL\n",
      "9             10              DEN\n",
      "10            11              DET\n",
      "11            12               GB\n",
      "12            13              HOU\n",
      "13            14              IND\n",
      "14            15              JAX\n",
      "15            16               KC\n",
      "16            17              MIA\n",
      "17            18              MIN\n",
      "18            19               NE\n",
      "19            20               NO\n",
      "20            21              NYG\n",
      "21            22              NYJ\n",
      "22            23               LV\n",
      "23            24              PHI\n",
      "24            25              PIT\n",
      "25            26              LAC\n",
      "26            27               SF\n",
      "27            28              SEA\n",
      "28            29              LAR\n",
      "29            30               TB\n",
      "30            31              TEN\n",
      "31            32              WAS\n",
      "32             0             PICK\n"
     ]
    }
   ],
   "source": [
    "pick = pd.DataFrame([[0, 'PICK']], columns=['favorite_num', 'team_favorite_id'])\n",
    "new_teams = teams.append(pick, ignore_index=True)\n",
    "print(new_teams)"
   ]
  },
  {
   "cell_type": "code",
   "execution_count": 26,
   "metadata": {
    "scrolled": true
   },
   "outputs": [
    {
     "data": {
      "text/html": [
       "<div>\n",
       "<style scoped>\n",
       "    .dataframe tbody tr th:only-of-type {\n",
       "        vertical-align: middle;\n",
       "    }\n",
       "\n",
       "    .dataframe tbody tr th {\n",
       "        vertical-align: top;\n",
       "    }\n",
       "\n",
       "    .dataframe thead th {\n",
       "        text-align: right;\n",
       "    }\n",
       "</style>\n",
       "<table border=\"1\" class=\"dataframe\">\n",
       "  <thead>\n",
       "    <tr style=\"text-align: right;\">\n",
       "      <th></th>\n",
       "      <th>schedule_week</th>\n",
       "      <th>schedule_playoff</th>\n",
       "      <th>team_home_id</th>\n",
       "      <th>team_away_id</th>\n",
       "      <th>team_favorite_id</th>\n",
       "      <th>expected_spread_favorite</th>\n",
       "      <th>favorite_covered</th>\n",
       "      <th>weather_temperature</th>\n",
       "      <th>weather_wind_mph</th>\n",
       "      <th>who_covered</th>\n",
       "      <th>home_team_num</th>\n",
       "      <th>away_team_num</th>\n",
       "      <th>favorite_num</th>\n",
       "    </tr>\n",
       "  </thead>\n",
       "  <tbody>\n",
       "    <tr>\n",
       "      <td>0</td>\n",
       "      <td>Superbowl</td>\n",
       "      <td>True</td>\n",
       "      <td>GB</td>\n",
       "      <td>KC</td>\n",
       "      <td>GB</td>\n",
       "      <td>-14.0</td>\n",
       "      <td>True</td>\n",
       "      <td>54.0</td>\n",
       "      <td>7.0</td>\n",
       "      <td>GB</td>\n",
       "      <td>12</td>\n",
       "      <td>16</td>\n",
       "      <td>12</td>\n",
       "    </tr>\n",
       "    <tr>\n",
       "      <td>1</td>\n",
       "      <td>Superbowl</td>\n",
       "      <td>True</td>\n",
       "      <td>GB</td>\n",
       "      <td>LV</td>\n",
       "      <td>GB</td>\n",
       "      <td>-13.5</td>\n",
       "      <td>True</td>\n",
       "      <td>60.0</td>\n",
       "      <td>12.0</td>\n",
       "      <td>GB</td>\n",
       "      <td>12</td>\n",
       "      <td>23</td>\n",
       "      <td>12</td>\n",
       "    </tr>\n",
       "    <tr>\n",
       "      <td>2</td>\n",
       "      <td>Superbowl</td>\n",
       "      <td>True</td>\n",
       "      <td>IND</td>\n",
       "      <td>NYJ</td>\n",
       "      <td>IND</td>\n",
       "      <td>-18.0</td>\n",
       "      <td>False</td>\n",
       "      <td>66.0</td>\n",
       "      <td>12.0</td>\n",
       "      <td>NYJ</td>\n",
       "      <td>14</td>\n",
       "      <td>22</td>\n",
       "      <td>14</td>\n",
       "    </tr>\n",
       "    <tr>\n",
       "      <td>3</td>\n",
       "      <td>Superbowl</td>\n",
       "      <td>True</td>\n",
       "      <td>KC</td>\n",
       "      <td>MIN</td>\n",
       "      <td>MIN</td>\n",
       "      <td>-12.0</td>\n",
       "      <td>False</td>\n",
       "      <td>55.0</td>\n",
       "      <td>14.0</td>\n",
       "      <td>MIN</td>\n",
       "      <td>16</td>\n",
       "      <td>18</td>\n",
       "      <td>18</td>\n",
       "    </tr>\n",
       "    <tr>\n",
       "      <td>4</td>\n",
       "      <td>Superbowl</td>\n",
       "      <td>True</td>\n",
       "      <td>IND</td>\n",
       "      <td>DAL</td>\n",
       "      <td>IND</td>\n",
       "      <td>-2.5</td>\n",
       "      <td>True</td>\n",
       "      <td>59.0</td>\n",
       "      <td>11.0</td>\n",
       "      <td>IND</td>\n",
       "      <td>14</td>\n",
       "      <td>9</td>\n",
       "      <td>14</td>\n",
       "    </tr>\n",
       "  </tbody>\n",
       "</table>\n",
       "</div>"
      ],
      "text/plain": [
       "  schedule_week  schedule_playoff team_home_id team_away_id team_favorite_id  \\\n",
       "0     Superbowl              True           GB           KC               GB   \n",
       "1     Superbowl              True           GB           LV               GB   \n",
       "2     Superbowl              True          IND          NYJ              IND   \n",
       "3     Superbowl              True           KC          MIN              MIN   \n",
       "4     Superbowl              True          IND          DAL              IND   \n",
       "\n",
       "   expected_spread_favorite  favorite_covered  weather_temperature  \\\n",
       "0                     -14.0              True                 54.0   \n",
       "1                     -13.5              True                 60.0   \n",
       "2                     -18.0             False                 66.0   \n",
       "3                     -12.0             False                 55.0   \n",
       "4                      -2.5              True                 59.0   \n",
       "\n",
       "   weather_wind_mph who_covered  home_team_num  away_team_num  favorite_num  \n",
       "0               7.0          GB             12             16            12  \n",
       "1              12.0          GB             12             23            12  \n",
       "2              12.0         NYJ             14             22            14  \n",
       "3              14.0         MIN             16             18            18  \n",
       "4              11.0         IND             14              9            14  "
      ]
     },
     "execution_count": 26,
     "metadata": {},
     "output_type": "execute_result"
    }
   ],
   "source": [
    "nfl_spreadspoke = pd.merge(nfl_spreadspoke, new_teams, how='left', on='team_favorite_id')\n",
    "nfl_spreadspoke.head()"
   ]
  },
  {
   "cell_type": "code",
   "execution_count": 27,
   "metadata": {},
   "outputs": [
    {
     "data": {
      "text/html": [
       "<div>\n",
       "<style scoped>\n",
       "    .dataframe tbody tr th:only-of-type {\n",
       "        vertical-align: middle;\n",
       "    }\n",
       "\n",
       "    .dataframe tbody tr th {\n",
       "        vertical-align: top;\n",
       "    }\n",
       "\n",
       "    .dataframe thead th {\n",
       "        text-align: right;\n",
       "    }\n",
       "</style>\n",
       "<table border=\"1\" class=\"dataframe\">\n",
       "  <thead>\n",
       "    <tr style=\"text-align: right;\">\n",
       "      <th></th>\n",
       "      <th>schedule_week</th>\n",
       "      <th>schedule_playoff</th>\n",
       "      <th>team_home_id</th>\n",
       "      <th>team_away_id</th>\n",
       "      <th>team_favorite_id</th>\n",
       "      <th>expected_spread_favorite</th>\n",
       "      <th>favorite_covered</th>\n",
       "      <th>weather_temperature</th>\n",
       "      <th>weather_wind_mph</th>\n",
       "      <th>who_covered</th>\n",
       "      <th>home_team_num</th>\n",
       "      <th>away_team_num</th>\n",
       "      <th>favorite_num</th>\n",
       "      <th>who_covered_num</th>\n",
       "    </tr>\n",
       "  </thead>\n",
       "  <tbody>\n",
       "    <tr>\n",
       "      <td>0</td>\n",
       "      <td>Superbowl</td>\n",
       "      <td>True</td>\n",
       "      <td>GB</td>\n",
       "      <td>KC</td>\n",
       "      <td>GB</td>\n",
       "      <td>-14.0</td>\n",
       "      <td>True</td>\n",
       "      <td>54.0</td>\n",
       "      <td>7.0</td>\n",
       "      <td>GB</td>\n",
       "      <td>12</td>\n",
       "      <td>16</td>\n",
       "      <td>12</td>\n",
       "      <td>12</td>\n",
       "    </tr>\n",
       "    <tr>\n",
       "      <td>1</td>\n",
       "      <td>Superbowl</td>\n",
       "      <td>True</td>\n",
       "      <td>GB</td>\n",
       "      <td>LV</td>\n",
       "      <td>GB</td>\n",
       "      <td>-13.5</td>\n",
       "      <td>True</td>\n",
       "      <td>60.0</td>\n",
       "      <td>12.0</td>\n",
       "      <td>GB</td>\n",
       "      <td>12</td>\n",
       "      <td>23</td>\n",
       "      <td>12</td>\n",
       "      <td>12</td>\n",
       "    </tr>\n",
       "    <tr>\n",
       "      <td>2</td>\n",
       "      <td>Superbowl</td>\n",
       "      <td>True</td>\n",
       "      <td>IND</td>\n",
       "      <td>NYJ</td>\n",
       "      <td>IND</td>\n",
       "      <td>-18.0</td>\n",
       "      <td>False</td>\n",
       "      <td>66.0</td>\n",
       "      <td>12.0</td>\n",
       "      <td>NYJ</td>\n",
       "      <td>14</td>\n",
       "      <td>22</td>\n",
       "      <td>14</td>\n",
       "      <td>22</td>\n",
       "    </tr>\n",
       "    <tr>\n",
       "      <td>3</td>\n",
       "      <td>Superbowl</td>\n",
       "      <td>True</td>\n",
       "      <td>KC</td>\n",
       "      <td>MIN</td>\n",
       "      <td>MIN</td>\n",
       "      <td>-12.0</td>\n",
       "      <td>False</td>\n",
       "      <td>55.0</td>\n",
       "      <td>14.0</td>\n",
       "      <td>MIN</td>\n",
       "      <td>16</td>\n",
       "      <td>18</td>\n",
       "      <td>18</td>\n",
       "      <td>18</td>\n",
       "    </tr>\n",
       "    <tr>\n",
       "      <td>4</td>\n",
       "      <td>Superbowl</td>\n",
       "      <td>True</td>\n",
       "      <td>IND</td>\n",
       "      <td>DAL</td>\n",
       "      <td>IND</td>\n",
       "      <td>-2.5</td>\n",
       "      <td>True</td>\n",
       "      <td>59.0</td>\n",
       "      <td>11.0</td>\n",
       "      <td>IND</td>\n",
       "      <td>14</td>\n",
       "      <td>9</td>\n",
       "      <td>14</td>\n",
       "      <td>14</td>\n",
       "    </tr>\n",
       "  </tbody>\n",
       "</table>\n",
       "</div>"
      ],
      "text/plain": [
       "  schedule_week  schedule_playoff team_home_id team_away_id team_favorite_id  \\\n",
       "0     Superbowl              True           GB           KC               GB   \n",
       "1     Superbowl              True           GB           LV               GB   \n",
       "2     Superbowl              True          IND          NYJ              IND   \n",
       "3     Superbowl              True           KC          MIN              MIN   \n",
       "4     Superbowl              True          IND          DAL              IND   \n",
       "\n",
       "   expected_spread_favorite  favorite_covered  weather_temperature  \\\n",
       "0                     -14.0              True                 54.0   \n",
       "1                     -13.5              True                 60.0   \n",
       "2                     -18.0             False                 66.0   \n",
       "3                     -12.0             False                 55.0   \n",
       "4                      -2.5              True                 59.0   \n",
       "\n",
       "   weather_wind_mph who_covered  home_team_num  away_team_num  favorite_num  \\\n",
       "0               7.0          GB             12             16            12   \n",
       "1              12.0          GB             12             23            12   \n",
       "2              12.0         NYJ             14             22            14   \n",
       "3              14.0         MIN             16             18            18   \n",
       "4              11.0         IND             14              9            14   \n",
       "\n",
       "   who_covered_num  \n",
       "0               12  \n",
       "1               12  \n",
       "2               22  \n",
       "3               18  \n",
       "4               14  "
      ]
     },
     "execution_count": 27,
     "metadata": {},
     "output_type": "execute_result"
    }
   ],
   "source": [
    "teams = teams.rename(columns={'favorite_num': 'who_covered_num','team_favorite_id': 'who_covered'})\n",
    "nfl_spreadspoke = pd.merge(nfl_spreadspoke, teams, how='left', on='who_covered')\n",
    "nfl_spreadspoke.head()"
   ]
  },
  {
   "cell_type": "markdown",
   "metadata": {},
   "source": [
    "**After the merge, I now have four new columns that I can use: home_team_num and away_team_num, favorite_num, and who_covered_nu**"
   ]
  },
  {
   "cell_type": "markdown",
   "metadata": {},
   "source": [
    "**Change the true/false values of favorite_covered to 0/1**"
   ]
  },
  {
   "cell_type": "code",
   "execution_count": 28,
   "metadata": {},
   "outputs": [
    {
     "data": {
      "text/html": [
       "<div>\n",
       "<style scoped>\n",
       "    .dataframe tbody tr th:only-of-type {\n",
       "        vertical-align: middle;\n",
       "    }\n",
       "\n",
       "    .dataframe tbody tr th {\n",
       "        vertical-align: top;\n",
       "    }\n",
       "\n",
       "    .dataframe thead th {\n",
       "        text-align: right;\n",
       "    }\n",
       "</style>\n",
       "<table border=\"1\" class=\"dataframe\">\n",
       "  <thead>\n",
       "    <tr style=\"text-align: right;\">\n",
       "      <th></th>\n",
       "      <th>schedule_week</th>\n",
       "      <th>schedule_playoff</th>\n",
       "      <th>team_home_id</th>\n",
       "      <th>team_away_id</th>\n",
       "      <th>team_favorite_id</th>\n",
       "      <th>expected_spread_favorite</th>\n",
       "      <th>favorite_covered</th>\n",
       "      <th>weather_temperature</th>\n",
       "      <th>weather_wind_mph</th>\n",
       "      <th>who_covered</th>\n",
       "      <th>home_team_num</th>\n",
       "      <th>away_team_num</th>\n",
       "      <th>favorite_num</th>\n",
       "      <th>who_covered_num</th>\n",
       "    </tr>\n",
       "  </thead>\n",
       "  <tbody>\n",
       "    <tr>\n",
       "      <td>0</td>\n",
       "      <td>Superbowl</td>\n",
       "      <td>True</td>\n",
       "      <td>GB</td>\n",
       "      <td>KC</td>\n",
       "      <td>GB</td>\n",
       "      <td>-14.0</td>\n",
       "      <td>1</td>\n",
       "      <td>54.0</td>\n",
       "      <td>7.0</td>\n",
       "      <td>GB</td>\n",
       "      <td>12</td>\n",
       "      <td>16</td>\n",
       "      <td>12</td>\n",
       "      <td>12</td>\n",
       "    </tr>\n",
       "    <tr>\n",
       "      <td>1</td>\n",
       "      <td>Superbowl</td>\n",
       "      <td>True</td>\n",
       "      <td>GB</td>\n",
       "      <td>LV</td>\n",
       "      <td>GB</td>\n",
       "      <td>-13.5</td>\n",
       "      <td>1</td>\n",
       "      <td>60.0</td>\n",
       "      <td>12.0</td>\n",
       "      <td>GB</td>\n",
       "      <td>12</td>\n",
       "      <td>23</td>\n",
       "      <td>12</td>\n",
       "      <td>12</td>\n",
       "    </tr>\n",
       "    <tr>\n",
       "      <td>2</td>\n",
       "      <td>Superbowl</td>\n",
       "      <td>True</td>\n",
       "      <td>IND</td>\n",
       "      <td>NYJ</td>\n",
       "      <td>IND</td>\n",
       "      <td>-18.0</td>\n",
       "      <td>0</td>\n",
       "      <td>66.0</td>\n",
       "      <td>12.0</td>\n",
       "      <td>NYJ</td>\n",
       "      <td>14</td>\n",
       "      <td>22</td>\n",
       "      <td>14</td>\n",
       "      <td>22</td>\n",
       "    </tr>\n",
       "    <tr>\n",
       "      <td>3</td>\n",
       "      <td>Superbowl</td>\n",
       "      <td>True</td>\n",
       "      <td>KC</td>\n",
       "      <td>MIN</td>\n",
       "      <td>MIN</td>\n",
       "      <td>-12.0</td>\n",
       "      <td>0</td>\n",
       "      <td>55.0</td>\n",
       "      <td>14.0</td>\n",
       "      <td>MIN</td>\n",
       "      <td>16</td>\n",
       "      <td>18</td>\n",
       "      <td>18</td>\n",
       "      <td>18</td>\n",
       "    </tr>\n",
       "    <tr>\n",
       "      <td>4</td>\n",
       "      <td>Superbowl</td>\n",
       "      <td>True</td>\n",
       "      <td>IND</td>\n",
       "      <td>DAL</td>\n",
       "      <td>IND</td>\n",
       "      <td>-2.5</td>\n",
       "      <td>1</td>\n",
       "      <td>59.0</td>\n",
       "      <td>11.0</td>\n",
       "      <td>IND</td>\n",
       "      <td>14</td>\n",
       "      <td>9</td>\n",
       "      <td>14</td>\n",
       "      <td>14</td>\n",
       "    </tr>\n",
       "  </tbody>\n",
       "</table>\n",
       "</div>"
      ],
      "text/plain": [
       "  schedule_week  schedule_playoff team_home_id team_away_id team_favorite_id  \\\n",
       "0     Superbowl              True           GB           KC               GB   \n",
       "1     Superbowl              True           GB           LV               GB   \n",
       "2     Superbowl              True          IND          NYJ              IND   \n",
       "3     Superbowl              True           KC          MIN              MIN   \n",
       "4     Superbowl              True          IND          DAL              IND   \n",
       "\n",
       "   expected_spread_favorite  favorite_covered  weather_temperature  \\\n",
       "0                     -14.0                 1                 54.0   \n",
       "1                     -13.5                 1                 60.0   \n",
       "2                     -18.0                 0                 66.0   \n",
       "3                     -12.0                 0                 55.0   \n",
       "4                      -2.5                 1                 59.0   \n",
       "\n",
       "   weather_wind_mph who_covered  home_team_num  away_team_num  favorite_num  \\\n",
       "0               7.0          GB             12             16            12   \n",
       "1              12.0          GB             12             23            12   \n",
       "2              12.0         NYJ             14             22            14   \n",
       "3              14.0         MIN             16             18            18   \n",
       "4              11.0         IND             14              9            14   \n",
       "\n",
       "   who_covered_num  \n",
       "0               12  \n",
       "1               12  \n",
       "2               22  \n",
       "3               18  \n",
       "4               14  "
      ]
     },
     "execution_count": 28,
     "metadata": {},
     "output_type": "execute_result"
    }
   ],
   "source": [
    "favorite_map = {True: 1, False: 0}\n",
    "nfl_spreadspoke['favorite_covered'] = nfl_spreadspoke['favorite_covered'].map(favorite_map)\n",
    "nfl_spreadspoke.head()"
   ]
  },
  {
   "cell_type": "markdown",
   "metadata": {},
   "source": [
    "**Perform a single variable Logistic Regression**"
   ]
  },
  {
   "cell_type": "code",
   "execution_count": 29,
   "metadata": {},
   "outputs": [],
   "source": [
    "home_team_model = LogisticRegression(solver='lbfgs').fit(nfl_spreadspoke[ ['favorite_num'] ], nfl_spreadspoke['favorite_covered'])"
   ]
  },
  {
   "cell_type": "code",
   "execution_count": 30,
   "metadata": {},
   "outputs": [],
   "source": [
    "predictions = home_team_model.predict(nfl_spreadspoke[ ['favorite_num'] ])"
   ]
  },
  {
   "cell_type": "code",
   "execution_count": 31,
   "metadata": {},
   "outputs": [],
   "source": [
    "def logistic(x):\n",
    "    return nd.exp(x) / (nd.exp(x) + 1)"
   ]
  },
  {
   "cell_type": "code",
   "execution_count": 32,
   "metadata": {},
   "outputs": [
    {
     "data": {
      "image/png": "[encoded data removed]",
      "text/plain": [
       "<Figure size 720x216 with 1 Axes>"
      ]
     },
     "metadata": {
      "needs_background": "light"
     },
     "output_type": "display_data"
    }
   ],
   "source": [
    "plt.figure(figsize=(10,3))\n",
    "plt.scatter(nfl_spreadspoke[\"favorite_num\"], nfl_spreadspoke['favorite_covered'] + nd.random.normal(0, 0.05, size=len(nfl_spreadspoke)), alpha=0.1)\n",
    "x_values = nd.linspace(0,32,32)\n",
    "plt.plot(x_values, logistic(x_values * home_team_model.coef_[0,0] + home_team_model.intercept_[0]))\n",
    "plt.show()"
   ]
  },
  {
   "cell_type": "code",
   "execution_count": 33,
   "metadata": {},
   "outputs": [
    {
     "name": "stdout",
     "output_type": "stream",
     "text": [
      "Regression Coefficient: -0.00389\n",
      "Regression Intercept: -0.05986\n"
     ]
    }
   ],
   "source": [
    "print(\"Regression Coefficient: {:.5f}\".format(home_team_model.coef_[0][0]))\n",
    "print(\"Regression Intercept: {:.5f}\".format(home_team_model.intercept_[0]))"
   ]
  },
  {
   "cell_type": "markdown",
   "metadata": {},
   "source": [
    "**TAKEAWAY: There is no distinguishable relationship created by this regression model. I think I need to add more variables**"
   ]
  },
  {
   "cell_type": "code",
   "execution_count": 34,
   "metadata": {},
   "outputs": [
    {
     "data": {
      "text/html": [
       "<div>\n",
       "<style scoped>\n",
       "    .dataframe tbody tr th:only-of-type {\n",
       "        vertical-align: middle;\n",
       "    }\n",
       "\n",
       "    .dataframe tbody tr th {\n",
       "        vertical-align: top;\n",
       "    }\n",
       "\n",
       "    .dataframe thead th {\n",
       "        text-align: right;\n",
       "    }\n",
       "</style>\n",
       "<table border=\"1\" class=\"dataframe\">\n",
       "  <thead>\n",
       "    <tr style=\"text-align: right;\">\n",
       "      <th></th>\n",
       "      <th>schedule_week</th>\n",
       "      <th>schedule_playoff</th>\n",
       "      <th>team_home_id</th>\n",
       "      <th>team_away_id</th>\n",
       "      <th>team_favorite_id</th>\n",
       "      <th>expected_spread_favorite</th>\n",
       "      <th>favorite_covered</th>\n",
       "      <th>weather_temperature</th>\n",
       "      <th>weather_wind_mph</th>\n",
       "      <th>who_covered</th>\n",
       "      <th>home_team_num</th>\n",
       "      <th>away_team_num</th>\n",
       "      <th>favorite_num</th>\n",
       "      <th>who_covered_num</th>\n",
       "    </tr>\n",
       "  </thead>\n",
       "  <tbody>\n",
       "    <tr>\n",
       "      <td>0</td>\n",
       "      <td>Superbowl</td>\n",
       "      <td>True</td>\n",
       "      <td>GB</td>\n",
       "      <td>KC</td>\n",
       "      <td>GB</td>\n",
       "      <td>-14.0</td>\n",
       "      <td>1</td>\n",
       "      <td>54.0</td>\n",
       "      <td>7.0</td>\n",
       "      <td>GB</td>\n",
       "      <td>12</td>\n",
       "      <td>16</td>\n",
       "      <td>12</td>\n",
       "      <td>12</td>\n",
       "    </tr>\n",
       "    <tr>\n",
       "      <td>1</td>\n",
       "      <td>Superbowl</td>\n",
       "      <td>True</td>\n",
       "      <td>GB</td>\n",
       "      <td>LV</td>\n",
       "      <td>GB</td>\n",
       "      <td>-13.5</td>\n",
       "      <td>1</td>\n",
       "      <td>60.0</td>\n",
       "      <td>12.0</td>\n",
       "      <td>GB</td>\n",
       "      <td>12</td>\n",
       "      <td>23</td>\n",
       "      <td>12</td>\n",
       "      <td>12</td>\n",
       "    </tr>\n",
       "    <tr>\n",
       "      <td>2</td>\n",
       "      <td>Superbowl</td>\n",
       "      <td>True</td>\n",
       "      <td>IND</td>\n",
       "      <td>NYJ</td>\n",
       "      <td>IND</td>\n",
       "      <td>-18.0</td>\n",
       "      <td>0</td>\n",
       "      <td>66.0</td>\n",
       "      <td>12.0</td>\n",
       "      <td>NYJ</td>\n",
       "      <td>14</td>\n",
       "      <td>22</td>\n",
       "      <td>14</td>\n",
       "      <td>22</td>\n",
       "    </tr>\n",
       "    <tr>\n",
       "      <td>3</td>\n",
       "      <td>Superbowl</td>\n",
       "      <td>True</td>\n",
       "      <td>KC</td>\n",
       "      <td>MIN</td>\n",
       "      <td>MIN</td>\n",
       "      <td>-12.0</td>\n",
       "      <td>0</td>\n",
       "      <td>55.0</td>\n",
       "      <td>14.0</td>\n",
       "      <td>MIN</td>\n",
       "      <td>16</td>\n",
       "      <td>18</td>\n",
       "      <td>18</td>\n",
       "      <td>18</td>\n",
       "    </tr>\n",
       "    <tr>\n",
       "      <td>4</td>\n",
       "      <td>Superbowl</td>\n",
       "      <td>True</td>\n",
       "      <td>IND</td>\n",
       "      <td>DAL</td>\n",
       "      <td>IND</td>\n",
       "      <td>-2.5</td>\n",
       "      <td>1</td>\n",
       "      <td>59.0</td>\n",
       "      <td>11.0</td>\n",
       "      <td>IND</td>\n",
       "      <td>14</td>\n",
       "      <td>9</td>\n",
       "      <td>14</td>\n",
       "      <td>14</td>\n",
       "    </tr>\n",
       "  </tbody>\n",
       "</table>\n",
       "</div>"
      ],
      "text/plain": [
       "  schedule_week  schedule_playoff team_home_id team_away_id team_favorite_id  \\\n",
       "0     Superbowl              True           GB           KC               GB   \n",
       "1     Superbowl              True           GB           LV               GB   \n",
       "2     Superbowl              True          IND          NYJ              IND   \n",
       "3     Superbowl              True           KC          MIN              MIN   \n",
       "4     Superbowl              True          IND          DAL              IND   \n",
       "\n",
       "   expected_spread_favorite  favorite_covered  weather_temperature  \\\n",
       "0                     -14.0                 1                 54.0   \n",
       "1                     -13.5                 1                 60.0   \n",
       "2                     -18.0                 0                 66.0   \n",
       "3                     -12.0                 0                 55.0   \n",
       "4                      -2.5                 1                 59.0   \n",
       "\n",
       "   weather_wind_mph who_covered  home_team_num  away_team_num  favorite_num  \\\n",
       "0               7.0          GB             12             16            12   \n",
       "1              12.0          GB             12             23            12   \n",
       "2              12.0         NYJ             14             22            14   \n",
       "3              14.0         MIN             16             18            18   \n",
       "4              11.0         IND             14              9            14   \n",
       "\n",
       "   who_covered_num  \n",
       "0               12  \n",
       "1               12  \n",
       "2               22  \n",
       "3               18  \n",
       "4               14  "
      ]
     },
     "execution_count": 34,
     "metadata": {},
     "output_type": "execute_result"
    }
   ],
   "source": [
    "nfl_spreadspoke.head()"
   ]
  },
  {
   "cell_type": "markdown",
   "metadata": {},
   "source": [
    "**I need to convert the schedule week variable into numerical values**"
   ]
  },
  {
   "cell_type": "code",
   "execution_count": 35,
   "metadata": {},
   "outputs": [
    {
     "data": {
      "text/plain": [
       "16            617\n",
       "15            617\n",
       "1             616\n",
       "13            616\n",
       "2             615\n",
       "14            614\n",
       "12            610\n",
       "11            596\n",
       "3             566\n",
       "10            561\n",
       "9             544\n",
       "7             542\n",
       "4             541\n",
       "8             538\n",
       "5             530\n",
       "6             529\n",
       "17            477\n",
       "Division      168\n",
       "Wildcard      150\n",
       "Conference     84\n",
       "Superbowl      54\n",
       "18             14\n",
       "Name: schedule_week, dtype: int64"
      ]
     },
     "execution_count": 35,
     "metadata": {},
     "output_type": "execute_result"
    }
   ],
   "source": [
    "nfl_spreadspoke['schedule_week'].value_counts()"
   ]
  },
  {
   "cell_type": "code",
   "execution_count": 36,
   "metadata": {},
   "outputs": [],
   "source": [
    "week_map = {\"1\": 1, \"2\": 2, \"3\": 3, \"4\": 4, \"5\": 5, \"6\": 6, \"7\": 7, \"8\": 8, \"9\": 9, \"10\": 10, \"11\": 11, \"12\": 12, \"13\": 13, \"14\": 14, \"15\": 15, \"16\": 16, \"17\": 17, \"18\": 18, \"Wildcard\": 19, \"Division\": 20, \"Conference\": 21, \"Superbowl\": 22}"
   ]
  },
  {
   "cell_type": "code",
   "execution_count": 37,
   "metadata": {},
   "outputs": [],
   "source": [
    "weeks = nfl_spreadspoke['schedule_week'].map(week_map)\n",
    "nfl_spreadspoke['week_number'] = weeks"
   ]
  },
  {
   "cell_type": "code",
   "execution_count": 38,
   "metadata": {},
   "outputs": [
    {
     "data": {
      "text/html": [
       "<div>\n",
       "<style scoped>\n",
       "    .dataframe tbody tr th:only-of-type {\n",
       "        vertical-align: middle;\n",
       "    }\n",
       "\n",
       "    .dataframe tbody tr th {\n",
       "        vertical-align: top;\n",
       "    }\n",
       "\n",
       "    .dataframe thead th {\n",
       "        text-align: right;\n",
       "    }\n",
       "</style>\n",
       "<table border=\"1\" class=\"dataframe\">\n",
       "  <thead>\n",
       "    <tr style=\"text-align: right;\">\n",
       "      <th></th>\n",
       "      <th>schedule_week</th>\n",
       "      <th>schedule_playoff</th>\n",
       "      <th>team_home_id</th>\n",
       "      <th>team_away_id</th>\n",
       "      <th>team_favorite_id</th>\n",
       "      <th>expected_spread_favorite</th>\n",
       "      <th>favorite_covered</th>\n",
       "      <th>weather_temperature</th>\n",
       "      <th>weather_wind_mph</th>\n",
       "      <th>who_covered</th>\n",
       "      <th>home_team_num</th>\n",
       "      <th>away_team_num</th>\n",
       "      <th>favorite_num</th>\n",
       "      <th>who_covered_num</th>\n",
       "      <th>week_number</th>\n",
       "    </tr>\n",
       "  </thead>\n",
       "  <tbody>\n",
       "    <tr>\n",
       "      <td>0</td>\n",
       "      <td>Superbowl</td>\n",
       "      <td>True</td>\n",
       "      <td>GB</td>\n",
       "      <td>KC</td>\n",
       "      <td>GB</td>\n",
       "      <td>-14.0</td>\n",
       "      <td>1</td>\n",
       "      <td>54.0</td>\n",
       "      <td>7.0</td>\n",
       "      <td>GB</td>\n",
       "      <td>12</td>\n",
       "      <td>16</td>\n",
       "      <td>12</td>\n",
       "      <td>12</td>\n",
       "      <td>22</td>\n",
       "    </tr>\n",
       "    <tr>\n",
       "      <td>1</td>\n",
       "      <td>Superbowl</td>\n",
       "      <td>True</td>\n",
       "      <td>GB</td>\n",
       "      <td>LV</td>\n",
       "      <td>GB</td>\n",
       "      <td>-13.5</td>\n",
       "      <td>1</td>\n",
       "      <td>60.0</td>\n",
       "      <td>12.0</td>\n",
       "      <td>GB</td>\n",
       "      <td>12</td>\n",
       "      <td>23</td>\n",
       "      <td>12</td>\n",
       "      <td>12</td>\n",
       "      <td>22</td>\n",
       "    </tr>\n",
       "    <tr>\n",
       "      <td>2</td>\n",
       "      <td>Superbowl</td>\n",
       "      <td>True</td>\n",
       "      <td>IND</td>\n",
       "      <td>NYJ</td>\n",
       "      <td>IND</td>\n",
       "      <td>-18.0</td>\n",
       "      <td>0</td>\n",
       "      <td>66.0</td>\n",
       "      <td>12.0</td>\n",
       "      <td>NYJ</td>\n",
       "      <td>14</td>\n",
       "      <td>22</td>\n",
       "      <td>14</td>\n",
       "      <td>22</td>\n",
       "      <td>22</td>\n",
       "    </tr>\n",
       "    <tr>\n",
       "      <td>3</td>\n",
       "      <td>Superbowl</td>\n",
       "      <td>True</td>\n",
       "      <td>KC</td>\n",
       "      <td>MIN</td>\n",
       "      <td>MIN</td>\n",
       "      <td>-12.0</td>\n",
       "      <td>0</td>\n",
       "      <td>55.0</td>\n",
       "      <td>14.0</td>\n",
       "      <td>MIN</td>\n",
       "      <td>16</td>\n",
       "      <td>18</td>\n",
       "      <td>18</td>\n",
       "      <td>18</td>\n",
       "      <td>22</td>\n",
       "    </tr>\n",
       "    <tr>\n",
       "      <td>4</td>\n",
       "      <td>Superbowl</td>\n",
       "      <td>True</td>\n",
       "      <td>IND</td>\n",
       "      <td>DAL</td>\n",
       "      <td>IND</td>\n",
       "      <td>-2.5</td>\n",
       "      <td>1</td>\n",
       "      <td>59.0</td>\n",
       "      <td>11.0</td>\n",
       "      <td>IND</td>\n",
       "      <td>14</td>\n",
       "      <td>9</td>\n",
       "      <td>14</td>\n",
       "      <td>14</td>\n",
       "      <td>22</td>\n",
       "    </tr>\n",
       "  </tbody>\n",
       "</table>\n",
       "</div>"
      ],
      "text/plain": [
       "  schedule_week  schedule_playoff team_home_id team_away_id team_favorite_id  \\\n",
       "0     Superbowl              True           GB           KC               GB   \n",
       "1     Superbowl              True           GB           LV               GB   \n",
       "2     Superbowl              True          IND          NYJ              IND   \n",
       "3     Superbowl              True           KC          MIN              MIN   \n",
       "4     Superbowl              True          IND          DAL              IND   \n",
       "\n",
       "   expected_spread_favorite  favorite_covered  weather_temperature  \\\n",
       "0                     -14.0                 1                 54.0   \n",
       "1                     -13.5                 1                 60.0   \n",
       "2                     -18.0                 0                 66.0   \n",
       "3                     -12.0                 0                 55.0   \n",
       "4                      -2.5                 1                 59.0   \n",
       "\n",
       "   weather_wind_mph who_covered  home_team_num  away_team_num  favorite_num  \\\n",
       "0               7.0          GB             12             16            12   \n",
       "1              12.0          GB             12             23            12   \n",
       "2              12.0         NYJ             14             22            14   \n",
       "3              14.0         MIN             16             18            18   \n",
       "4              11.0         IND             14              9            14   \n",
       "\n",
       "   who_covered_num  week_number  \n",
       "0               12           22  \n",
       "1               12           22  \n",
       "2               22           22  \n",
       "3               18           22  \n",
       "4               14           22  "
      ]
     },
     "execution_count": 38,
     "metadata": {},
     "output_type": "execute_result"
    }
   ],
   "source": [
    "nfl_spreadspoke.head()"
   ]
  },
  {
   "cell_type": "markdown",
   "metadata": {},
   "source": [
    "**I want to make a dataframe for my model that includes dummy variables for team_home, team_away, and team_favorite**"
   ]
  },
  {
   "cell_type": "code",
   "execution_count": 39,
   "metadata": {},
   "outputs": [
    {
     "data": {
      "text/html": [
       "<div>\n",
       "<style scoped>\n",
       "    .dataframe tbody tr th:only-of-type {\n",
       "        vertical-align: middle;\n",
       "    }\n",
       "\n",
       "    .dataframe tbody tr th {\n",
       "        vertical-align: top;\n",
       "    }\n",
       "\n",
       "    .dataframe thead th {\n",
       "        text-align: right;\n",
       "    }\n",
       "</style>\n",
       "<table border=\"1\" class=\"dataframe\">\n",
       "  <thead>\n",
       "    <tr style=\"text-align: right;\">\n",
       "      <th></th>\n",
       "      <th>favorite_covered</th>\n",
       "      <th>expected_spread_favorite</th>\n",
       "      <th>weather_temperature</th>\n",
       "      <th>weather_wind_mph</th>\n",
       "      <th>team_home_id</th>\n",
       "      <th>team_away_id</th>\n",
       "      <th>team_favorite_id</th>\n",
       "      <th>week_number</th>\n",
       "    </tr>\n",
       "  </thead>\n",
       "  <tbody>\n",
       "    <tr>\n",
       "      <td>0</td>\n",
       "      <td>1</td>\n",
       "      <td>-14.0</td>\n",
       "      <td>54.0</td>\n",
       "      <td>7.0</td>\n",
       "      <td>GB</td>\n",
       "      <td>KC</td>\n",
       "      <td>GB</td>\n",
       "      <td>22</td>\n",
       "    </tr>\n",
       "    <tr>\n",
       "      <td>1</td>\n",
       "      <td>1</td>\n",
       "      <td>-13.5</td>\n",
       "      <td>60.0</td>\n",
       "      <td>12.0</td>\n",
       "      <td>GB</td>\n",
       "      <td>LV</td>\n",
       "      <td>GB</td>\n",
       "      <td>22</td>\n",
       "    </tr>\n",
       "    <tr>\n",
       "      <td>2</td>\n",
       "      <td>0</td>\n",
       "      <td>-18.0</td>\n",
       "      <td>66.0</td>\n",
       "      <td>12.0</td>\n",
       "      <td>IND</td>\n",
       "      <td>NYJ</td>\n",
       "      <td>IND</td>\n",
       "      <td>22</td>\n",
       "    </tr>\n",
       "    <tr>\n",
       "      <td>3</td>\n",
       "      <td>0</td>\n",
       "      <td>-12.0</td>\n",
       "      <td>55.0</td>\n",
       "      <td>14.0</td>\n",
       "      <td>KC</td>\n",
       "      <td>MIN</td>\n",
       "      <td>MIN</td>\n",
       "      <td>22</td>\n",
       "    </tr>\n",
       "    <tr>\n",
       "      <td>4</td>\n",
       "      <td>1</td>\n",
       "      <td>-2.5</td>\n",
       "      <td>59.0</td>\n",
       "      <td>11.0</td>\n",
       "      <td>IND</td>\n",
       "      <td>DAL</td>\n",
       "      <td>IND</td>\n",
       "      <td>22</td>\n",
       "    </tr>\n",
       "  </tbody>\n",
       "</table>\n",
       "</div>"
      ],
      "text/plain": [
       "   favorite_covered  expected_spread_favorite  weather_temperature  \\\n",
       "0                 1                     -14.0                 54.0   \n",
       "1                 1                     -13.5                 60.0   \n",
       "2                 0                     -18.0                 66.0   \n",
       "3                 0                     -12.0                 55.0   \n",
       "4                 1                      -2.5                 59.0   \n",
       "\n",
       "   weather_wind_mph team_home_id team_away_id team_favorite_id  week_number  \n",
       "0               7.0           GB           KC               GB           22  \n",
       "1              12.0           GB           LV               GB           22  \n",
       "2              12.0          IND          NYJ              IND           22  \n",
       "3              14.0           KC          MIN              MIN           22  \n",
       "4              11.0          IND          DAL              IND           22  "
      ]
     },
     "execution_count": 39,
     "metadata": {},
     "output_type": "execute_result"
    }
   ],
   "source": [
    "model_df = nfl_spreadspoke[ ['favorite_covered', 'expected_spread_favorite', 'weather_temperature', 'weather_wind_mph', 'team_home_id', 'team_away_id', 'team_favorite_id', 'week_number'] ]\n",
    "model_df.head()"
   ]
  },
  {
   "cell_type": "markdown",
   "metadata": {},
   "source": [
    "Creating the dummies and concatonating with the model dataframe"
   ]
  },
  {
   "cell_type": "code",
   "execution_count": 40,
   "metadata": {},
   "outputs": [],
   "source": [
    "fields = [('team_home_','team_home_id'), ('team_away_','team_away_id'), ('team_favorite_','team_favorite_id')]\n",
    "for tag, name in fields:\n",
    "    model_df = pd.concat([model_df, pd.get_dummies(model_df[name], prefix=tag)], axis=1)"
   ]
  },
  {
   "cell_type": "code",
   "execution_count": 41,
   "metadata": {},
   "outputs": [
    {
     "data": {
      "text/html": [
       "<div>\n",
       "<style scoped>\n",
       "    .dataframe tbody tr th:only-of-type {\n",
       "        vertical-align: middle;\n",
       "    }\n",
       "\n",
       "    .dataframe tbody tr th {\n",
       "        vertical-align: top;\n",
       "    }\n",
       "\n",
       "    .dataframe thead th {\n",
       "        text-align: right;\n",
       "    }\n",
       "</style>\n",
       "<table border=\"1\" class=\"dataframe\">\n",
       "  <thead>\n",
       "    <tr style=\"text-align: right;\">\n",
       "      <th></th>\n",
       "      <th>favorite_covered</th>\n",
       "      <th>expected_spread_favorite</th>\n",
       "      <th>weather_temperature</th>\n",
       "      <th>weather_wind_mph</th>\n",
       "      <th>team_home_id</th>\n",
       "      <th>team_away_id</th>\n",
       "      <th>team_favorite_id</th>\n",
       "      <th>week_number</th>\n",
       "      <th>team_home__ARI</th>\n",
       "      <th>team_home__ATL</th>\n",
       "      <th>...</th>\n",
       "      <th>team_favorite__NYG</th>\n",
       "      <th>team_favorite__NYJ</th>\n",
       "      <th>team_favorite__PHI</th>\n",
       "      <th>team_favorite__PICK</th>\n",
       "      <th>team_favorite__PIT</th>\n",
       "      <th>team_favorite__SEA</th>\n",
       "      <th>team_favorite__SF</th>\n",
       "      <th>team_favorite__TB</th>\n",
       "      <th>team_favorite__TEN</th>\n",
       "      <th>team_favorite__WAS</th>\n",
       "    </tr>\n",
       "  </thead>\n",
       "  <tbody>\n",
       "    <tr>\n",
       "      <td>0</td>\n",
       "      <td>1</td>\n",
       "      <td>-14.0</td>\n",
       "      <td>54.0</td>\n",
       "      <td>7.0</td>\n",
       "      <td>GB</td>\n",
       "      <td>KC</td>\n",
       "      <td>GB</td>\n",
       "      <td>22</td>\n",
       "      <td>0</td>\n",
       "      <td>0</td>\n",
       "      <td>...</td>\n",
       "      <td>0</td>\n",
       "      <td>0</td>\n",
       "      <td>0</td>\n",
       "      <td>0</td>\n",
       "      <td>0</td>\n",
       "      <td>0</td>\n",
       "      <td>0</td>\n",
       "      <td>0</td>\n",
       "      <td>0</td>\n",
       "      <td>0</td>\n",
       "    </tr>\n",
       "    <tr>\n",
       "      <td>1</td>\n",
       "      <td>1</td>\n",
       "      <td>-13.5</td>\n",
       "      <td>60.0</td>\n",
       "      <td>12.0</td>\n",
       "      <td>GB</td>\n",
       "      <td>LV</td>\n",
       "      <td>GB</td>\n",
       "      <td>22</td>\n",
       "      <td>0</td>\n",
       "      <td>0</td>\n",
       "      <td>...</td>\n",
       "      <td>0</td>\n",
       "      <td>0</td>\n",
       "      <td>0</td>\n",
       "      <td>0</td>\n",
       "      <td>0</td>\n",
       "      <td>0</td>\n",
       "      <td>0</td>\n",
       "      <td>0</td>\n",
       "      <td>0</td>\n",
       "      <td>0</td>\n",
       "    </tr>\n",
       "    <tr>\n",
       "      <td>2</td>\n",
       "      <td>0</td>\n",
       "      <td>-18.0</td>\n",
       "      <td>66.0</td>\n",
       "      <td>12.0</td>\n",
       "      <td>IND</td>\n",
       "      <td>NYJ</td>\n",
       "      <td>IND</td>\n",
       "      <td>22</td>\n",
       "      <td>0</td>\n",
       "      <td>0</td>\n",
       "      <td>...</td>\n",
       "      <td>0</td>\n",
       "      <td>0</td>\n",
       "      <td>0</td>\n",
       "      <td>0</td>\n",
       "      <td>0</td>\n",
       "      <td>0</td>\n",
       "      <td>0</td>\n",
       "      <td>0</td>\n",
       "      <td>0</td>\n",
       "      <td>0</td>\n",
       "    </tr>\n",
       "    <tr>\n",
       "      <td>3</td>\n",
       "      <td>0</td>\n",
       "      <td>-12.0</td>\n",
       "      <td>55.0</td>\n",
       "      <td>14.0</td>\n",
       "      <td>KC</td>\n",
       "      <td>MIN</td>\n",
       "      <td>MIN</td>\n",
       "      <td>22</td>\n",
       "      <td>0</td>\n",
       "      <td>0</td>\n",
       "      <td>...</td>\n",
       "      <td>0</td>\n",
       "      <td>0</td>\n",
       "      <td>0</td>\n",
       "      <td>0</td>\n",
       "      <td>0</td>\n",
       "      <td>0</td>\n",
       "      <td>0</td>\n",
       "      <td>0</td>\n",
       "      <td>0</td>\n",
       "      <td>0</td>\n",
       "    </tr>\n",
       "    <tr>\n",
       "      <td>4</td>\n",
       "      <td>1</td>\n",
       "      <td>-2.5</td>\n",
       "      <td>59.0</td>\n",
       "      <td>11.0</td>\n",
       "      <td>IND</td>\n",
       "      <td>DAL</td>\n",
       "      <td>IND</td>\n",
       "      <td>22</td>\n",
       "      <td>0</td>\n",
       "      <td>0</td>\n",
       "      <td>...</td>\n",
       "      <td>0</td>\n",
       "      <td>0</td>\n",
       "      <td>0</td>\n",
       "      <td>0</td>\n",
       "      <td>0</td>\n",
       "      <td>0</td>\n",
       "      <td>0</td>\n",
       "      <td>0</td>\n",
       "      <td>0</td>\n",
       "      <td>0</td>\n",
       "    </tr>\n",
       "  </tbody>\n",
       "</table>\n",
       "<p>5 rows × 105 columns</p>\n",
       "</div>"
      ],
      "text/plain": [
       "   favorite_covered  expected_spread_favorite  weather_temperature  \\\n",
       "0                 1                     -14.0                 54.0   \n",
       "1                 1                     -13.5                 60.0   \n",
       "2                 0                     -18.0                 66.0   \n",
       "3                 0                     -12.0                 55.0   \n",
       "4                 1                      -2.5                 59.0   \n",
       "\n",
       "   weather_wind_mph team_home_id team_away_id team_favorite_id  week_number  \\\n",
       "0               7.0           GB           KC               GB           22   \n",
       "1              12.0           GB           LV               GB           22   \n",
       "2              12.0          IND          NYJ              IND           22   \n",
       "3              14.0           KC          MIN              MIN           22   \n",
       "4              11.0          IND          DAL              IND           22   \n",
       "\n",
       "   team_home__ARI  team_home__ATL  ...  team_favorite__NYG  \\\n",
       "0               0               0  ...                   0   \n",
       "1               0               0  ...                   0   \n",
       "2               0               0  ...                   0   \n",
       "3               0               0  ...                   0   \n",
       "4               0               0  ...                   0   \n",
       "\n",
       "   team_favorite__NYJ  team_favorite__PHI  team_favorite__PICK  \\\n",
       "0                   0                   0                    0   \n",
       "1                   0                   0                    0   \n",
       "2                   0                   0                    0   \n",
       "3                   0                   0                    0   \n",
       "4                   0                   0                    0   \n",
       "\n",
       "   team_favorite__PIT  team_favorite__SEA  team_favorite__SF  \\\n",
       "0                   0                   0                  0   \n",
       "1                   0                   0                  0   \n",
       "2                   0                   0                  0   \n",
       "3                   0                   0                  0   \n",
       "4                   0                   0                  0   \n",
       "\n",
       "   team_favorite__TB  team_favorite__TEN  team_favorite__WAS  \n",
       "0                  0                   0                   0  \n",
       "1                  0                   0                   0  \n",
       "2                  0                   0                   0  \n",
       "3                  0                   0                   0  \n",
       "4                  0                   0                   0  \n",
       "\n",
       "[5 rows x 105 columns]"
      ]
     },
     "execution_count": 41,
     "metadata": {},
     "output_type": "execute_result"
    }
   ],
   "source": [
    "model_df.head()"
   ]
  },
  {
   "cell_type": "markdown",
   "metadata": {},
   "source": [
    "**I now want to make a multi-logistic model. I am going to use week, home team, away team, team favorite, spread, temperature and weather to predict whether the favorite covers (favorite_covered = 1).**"
   ]
  },
  {
   "cell_type": "code",
   "execution_count": 42,
   "metadata": {},
   "outputs": [
    {
     "name": "stdout",
     "output_type": "stream",
     "text": [
      "['expected_spread_favorite', 'weather_temperature', 'weather_wind_mph', 'week_number', 'team_home__ARI', 'team_home__ATL', 'team_home__BAL', 'team_home__BUF', 'team_home__CAR', 'team_home__CHI', 'team_home__CIN', 'team_home__CLE', 'team_home__DAL', 'team_home__DEN', 'team_home__DET', 'team_home__GB', 'team_home__HOU', 'team_home__IND', 'team_home__JAX', 'team_home__KC', 'team_home__LAC', 'team_home__LAR', 'team_home__LV', 'team_home__MIA', 'team_home__MIN', 'team_home__NE', 'team_home__NO', 'team_home__NYG', 'team_home__NYJ', 'team_home__PHI', 'team_home__PIT', 'team_home__SEA', 'team_home__SF', 'team_home__TB', 'team_home__TEN', 'team_home__WAS', 'team_away__ARI', 'team_away__ATL', 'team_away__BAL', 'team_away__BUF', 'team_away__CAR', 'team_away__CHI', 'team_away__CIN', 'team_away__CLE', 'team_away__DAL', 'team_away__DEN', 'team_away__DET', 'team_away__GB', 'team_away__HOU', 'team_away__IND', 'team_away__JAX', 'team_away__KC', 'team_away__LAC', 'team_away__LAR', 'team_away__LV', 'team_away__MIA', 'team_away__MIN', 'team_away__NE', 'team_away__NO', 'team_away__NYG', 'team_away__NYJ', 'team_away__PHI', 'team_away__PIT', 'team_away__SEA', 'team_away__SF', 'team_away__TB', 'team_away__TEN', 'team_away__WAS', 'team_favorite__ARI', 'team_favorite__ATL', 'team_favorite__BAL', 'team_favorite__BUF', 'team_favorite__CAR', 'team_favorite__CHI', 'team_favorite__CIN', 'team_favorite__CLE', 'team_favorite__DAL', 'team_favorite__DEN', 'team_favorite__DET', 'team_favorite__GB', 'team_favorite__HOU', 'team_favorite__IND', 'team_favorite__JAX', 'team_favorite__KC', 'team_favorite__LAC', 'team_favorite__LAR', 'team_favorite__LV', 'team_favorite__MIA', 'team_favorite__MIN', 'team_favorite__NE', 'team_favorite__NO', 'team_favorite__NYG', 'team_favorite__NYJ', 'team_favorite__PHI', 'team_favorite__PICK', 'team_favorite__PIT', 'team_favorite__SEA', 'team_favorite__SF', 'team_favorite__TB', 'team_favorite__TEN', 'team_favorite__WAS']\n"
     ]
    }
   ],
   "source": [
    "predictor_variables = list(model_df.columns)\n",
    "predictor_variables.remove('team_home_id')\n",
    "predictor_variables.remove('team_away_id')\n",
    "predictor_variables.remove('team_favorite_id')\n",
    "predictor_variables.remove('favorite_covered')\n",
    "print(predictor_variables)"
   ]
  },
  {
   "cell_type": "markdown",
   "metadata": {},
   "source": [
    "**I want to split my data into train and test data**"
   ]
  },
  {
   "cell_type": "code",
   "execution_count": 43,
   "metadata": {},
   "outputs": [],
   "source": [
    "multi_train, multi_test = train_test_split(model_df, test_size = 0.1)"
   ]
  },
  {
   "cell_type": "code",
   "execution_count": 44,
   "metadata": {},
   "outputs": [],
   "source": [
    "multi_model = LogisticRegression(solver='liblinear').fit(multi_train[predictor_variables], multi_train['favorite_covered'])"
   ]
  },
  {
   "cell_type": "markdown",
   "metadata": {},
   "source": [
    "These show the affect of each predictor variable on the output"
   ]
  },
  {
   "cell_type": "code",
   "execution_count": 45,
   "metadata": {},
   "outputs": [
    {
     "name": "stdout",
     "output_type": "stream",
     "text": [
      "0.0096\texpected_spread_favorite\n",
      "-0.0008\tweather_temperature\n",
      "0.0010\tweather_wind_mph\n",
      "0.0068\tweek_number\n",
      "0.0336\tteam_home__ARI\n",
      "0.1003\tteam_home__ATL\n",
      "0.0600\tteam_home__BAL\n",
      "0.1343\tteam_home__BUF\n",
      "-0.0393\tteam_home__CAR\n",
      "-0.0496\tteam_home__CHI\n",
      "0.1656\tteam_home__CIN\n",
      "0.2008\tteam_home__CLE\n",
      "-0.0344\tteam_home__DAL\n",
      "-0.1767\tteam_home__DEN\n",
      "0.0737\tteam_home__DET\n",
      "0.2105\tteam_home__GB\n",
      "-0.3600\tteam_home__HOU\n",
      "0.0393\tteam_home__IND\n",
      "0.2203\tteam_home__JAX\n",
      "-0.3341\tteam_home__KC\n",
      "0.0330\tteam_home__LAC\n",
      "0.3947\tteam_home__LAR\n",
      "0.0566\tteam_home__LV\n",
      "-0.2139\tteam_home__MIA\n",
      "-0.0456\tteam_home__MIN\n",
      "-0.2394\tteam_home__NE\n",
      "-0.1177\tteam_home__NO\n",
      "0.0668\tteam_home__NYG\n",
      "-0.2152\tteam_home__NYJ\n",
      "-0.1197\tteam_home__PHI\n",
      "0.1475\tteam_home__PIT\n",
      "-0.2207\tteam_home__SEA\n",
      "-0.1012\tteam_home__SF\n",
      "0.1432\tteam_home__TB\n",
      "0.2792\tteam_home__TEN\n",
      "-0.1920\tteam_home__WAS\n",
      "0.1743\tteam_away__ARI\n",
      "-0.0624\tteam_away__ATL\n",
      "-0.3841\tteam_away__BAL\n",
      "0.0250\tteam_away__BUF\n",
      "-0.1343\tteam_away__CAR\n",
      "0.1157\tteam_away__CHI\n",
      "0.0620\tteam_away__CIN\n",
      "0.1825\tteam_away__CLE\n",
      "-0.0940\tteam_away__DAL\n",
      "0.0855\tteam_away__DEN\n",
      "0.0410\tteam_away__DET\n",
      "0.0003\tteam_away__GB\n",
      "0.1419\tteam_away__HOU\n",
      "0.2978\tteam_away__IND\n",
      "0.0664\tteam_away__JAX\n",
      "-0.0150\tteam_away__KC\n",
      "-0.1748\tteam_away__LAC\n",
      "0.2608\tteam_away__LAR\n",
      "0.0050\tteam_away__LV\n",
      "0.0395\tteam_away__MIA\n",
      "-0.0990\tteam_away__MIN\n",
      "-0.2029\tteam_away__NE\n",
      "0.1205\tteam_away__NO\n",
      "-0.1211\tteam_away__NYG\n",
      "0.0397\tteam_away__NYJ\n",
      "-0.2780\tteam_away__PHI\n",
      "-0.3752\tteam_away__PIT\n",
      "-0.0483\tteam_away__SEA\n",
      "0.2126\tteam_away__SF\n",
      "0.0519\tteam_away__TB\n",
      "0.1427\tteam_away__TEN\n",
      "-0.1766\tteam_away__WAS\n",
      "-0.0026\tteam_favorite__ARI\n",
      "-0.1565\tteam_favorite__ATL\n",
      "0.1546\tteam_favorite__BAL\n",
      "0.0453\tteam_favorite__BUF\n",
      "0.1387\tteam_favorite__CAR\n",
      "-0.0244\tteam_favorite__CHI\n",
      "-0.1168\tteam_favorite__CIN\n",
      "-0.1994\tteam_favorite__CLE\n",
      "0.2092\tteam_favorite__DAL\n",
      "0.0417\tteam_favorite__DEN\n",
      "-0.1775\tteam_favorite__DET\n",
      "0.0557\tteam_favorite__GB\n",
      "0.1352\tteam_favorite__HOU\n",
      "-0.0428\tteam_favorite__IND\n",
      "-0.1962\tteam_favorite__JAX\n",
      "0.3262\tteam_favorite__KC\n",
      "-0.0164\tteam_favorite__LAC\n",
      "-0.3877\tteam_favorite__LAR\n",
      "-0.2078\tteam_favorite__LV\n",
      "0.0864\tteam_favorite__MIA\n",
      "0.0545\tteam_favorite__MIN\n",
      "0.3253\tteam_favorite__NE\n",
      "0.1130\tteam_favorite__NO\n",
      "0.1141\tteam_favorite__NYG\n",
      "-0.1044\tteam_favorite__NYJ\n",
      "0.1779\tteam_favorite__PHI\n",
      "-0.0897\tteam_favorite__PICK\n",
      "0.0830\tteam_favorite__PIT\n",
      "0.1457\tteam_favorite__SEA\n",
      "0.1435\tteam_favorite__SF\n",
      "-0.2073\tteam_favorite__TB\n",
      "-0.5056\tteam_favorite__TEN\n",
      "-0.0158\tteam_favorite__WAS\n",
      "Intercept = -0.10049\n"
     ]
    }
   ],
   "source": [
    "for i, predictor in enumerate(predictor_variables):\n",
    "    print(\"{:.4f}\\t{}\".format(multi_model.coef_[0,i], predictor))\n",
    "print(\"Intercept = {:.5f}\".format(multi_model.intercept_[0]))"
   ]
  },
  {
   "cell_type": "markdown",
   "metadata": {},
   "source": [
    "## Evaluation of Significance"
   ]
  },
  {
   "cell_type": "markdown",
   "metadata": {},
   "source": [
    "For my significance, I want to simulate a betting season with my testing data that uses the model \"multi_model.\" To do this I want to use three different criteria when determining when to make a bet. In one scenario, I want to make bets only when the model produces there is a greater than 0.55 outcome or less than 0.45 outcome. In another, the model must be greater than 0.6 or less than 0.4. In the last scenario, the model must be greater 0.7 or less than 0.3. I am going to track the number of bets made as well as the number of bets that hit to see the accuracy and usability of the model in pratice."
   ]
  },
  {
   "cell_type": "code",
   "execution_count": 46,
   "metadata": {},
   "outputs": [],
   "source": [
    "total_test_games = len(multi_test)\n",
    "scenario1_bets, scenario1_hits, scenario2_bets, scenario2_hits, scenario3_bets, scenario3_hits, = 0,0,0,0,0,0"
   ]
  },
  {
   "cell_type": "markdown",
   "metadata": {},
   "source": [
    "**<u>Scenario 1**"
   ]
  },
  {
   "cell_type": "code",
   "execution_count": 47,
   "metadata": {},
   "outputs": [
    {
     "data": {
      "text/html": [
       "<div>\n",
       "<style scoped>\n",
       "    .dataframe tbody tr th:only-of-type {\n",
       "        vertical-align: middle;\n",
       "    }\n",
       "\n",
       "    .dataframe tbody tr th {\n",
       "        vertical-align: top;\n",
       "    }\n",
       "\n",
       "    .dataframe thead th {\n",
       "        text-align: right;\n",
       "    }\n",
       "</style>\n",
       "<table border=\"1\" class=\"dataframe\">\n",
       "  <thead>\n",
       "    <tr style=\"text-align: right;\">\n",
       "      <th></th>\n",
       "      <th>favorite_covered</th>\n",
       "      <th>expected_spread_favorite</th>\n",
       "      <th>weather_temperature</th>\n",
       "      <th>weather_wind_mph</th>\n",
       "      <th>team_home_id</th>\n",
       "      <th>team_away_id</th>\n",
       "      <th>team_favorite_id</th>\n",
       "      <th>week_number</th>\n",
       "      <th>team_home__ARI</th>\n",
       "      <th>team_home__ATL</th>\n",
       "      <th>...</th>\n",
       "      <th>team_favorite__NYG</th>\n",
       "      <th>team_favorite__NYJ</th>\n",
       "      <th>team_favorite__PHI</th>\n",
       "      <th>team_favorite__PICK</th>\n",
       "      <th>team_favorite__PIT</th>\n",
       "      <th>team_favorite__SEA</th>\n",
       "      <th>team_favorite__SF</th>\n",
       "      <th>team_favorite__TB</th>\n",
       "      <th>team_favorite__TEN</th>\n",
       "      <th>team_favorite__WAS</th>\n",
       "    </tr>\n",
       "  </thead>\n",
       "  <tbody>\n",
       "    <tr>\n",
       "      <td>5982</td>\n",
       "      <td>1</td>\n",
       "      <td>-4.0</td>\n",
       "      <td>50.0</td>\n",
       "      <td>5.0</td>\n",
       "      <td>PIT</td>\n",
       "      <td>CIN</td>\n",
       "      <td>PIT</td>\n",
       "      <td>4</td>\n",
       "      <td>0</td>\n",
       "      <td>0</td>\n",
       "      <td>...</td>\n",
       "      <td>0</td>\n",
       "      <td>0</td>\n",
       "      <td>0</td>\n",
       "      <td>0</td>\n",
       "      <td>1</td>\n",
       "      <td>0</td>\n",
       "      <td>0</td>\n",
       "      <td>0</td>\n",
       "      <td>0</td>\n",
       "      <td>0</td>\n",
       "    </tr>\n",
       "    <tr>\n",
       "      <td>4506</td>\n",
       "      <td>0</td>\n",
       "      <td>-6.5</td>\n",
       "      <td>72.0</td>\n",
       "      <td>6.0</td>\n",
       "      <td>JAX</td>\n",
       "      <td>TB</td>\n",
       "      <td>JAX</td>\n",
       "      <td>11</td>\n",
       "      <td>0</td>\n",
       "      <td>0</td>\n",
       "      <td>...</td>\n",
       "      <td>0</td>\n",
       "      <td>0</td>\n",
       "      <td>0</td>\n",
       "      <td>0</td>\n",
       "      <td>0</td>\n",
       "      <td>0</td>\n",
       "      <td>0</td>\n",
       "      <td>0</td>\n",
       "      <td>0</td>\n",
       "      <td>0</td>\n",
       "    </tr>\n",
       "    <tr>\n",
       "      <td>4946</td>\n",
       "      <td>1</td>\n",
       "      <td>-4.0</td>\n",
       "      <td>74.0</td>\n",
       "      <td>13.0</td>\n",
       "      <td>KC</td>\n",
       "      <td>SEA</td>\n",
       "      <td>KC</td>\n",
       "      <td>5</td>\n",
       "      <td>0</td>\n",
       "      <td>0</td>\n",
       "      <td>...</td>\n",
       "      <td>0</td>\n",
       "      <td>0</td>\n",
       "      <td>0</td>\n",
       "      <td>0</td>\n",
       "      <td>0</td>\n",
       "      <td>0</td>\n",
       "      <td>0</td>\n",
       "      <td>0</td>\n",
       "      <td>0</td>\n",
       "      <td>0</td>\n",
       "    </tr>\n",
       "    <tr>\n",
       "      <td>3290</td>\n",
       "      <td>0</td>\n",
       "      <td>-2.5</td>\n",
       "      <td>72.0</td>\n",
       "      <td>0.0</td>\n",
       "      <td>MIN</td>\n",
       "      <td>NO</td>\n",
       "      <td>MIN</td>\n",
       "      <td>13</td>\n",
       "      <td>0</td>\n",
       "      <td>0</td>\n",
       "      <td>...</td>\n",
       "      <td>0</td>\n",
       "      <td>0</td>\n",
       "      <td>0</td>\n",
       "      <td>0</td>\n",
       "      <td>0</td>\n",
       "      <td>0</td>\n",
       "      <td>0</td>\n",
       "      <td>0</td>\n",
       "      <td>0</td>\n",
       "      <td>0</td>\n",
       "    </tr>\n",
       "    <tr>\n",
       "      <td>1315</td>\n",
       "      <td>0</td>\n",
       "      <td>-2.0</td>\n",
       "      <td>56.0</td>\n",
       "      <td>16.0</td>\n",
       "      <td>LAC</td>\n",
       "      <td>KC</td>\n",
       "      <td>LAC</td>\n",
       "      <td>16</td>\n",
       "      <td>0</td>\n",
       "      <td>0</td>\n",
       "      <td>...</td>\n",
       "      <td>0</td>\n",
       "      <td>0</td>\n",
       "      <td>0</td>\n",
       "      <td>0</td>\n",
       "      <td>0</td>\n",
       "      <td>0</td>\n",
       "      <td>0</td>\n",
       "      <td>0</td>\n",
       "      <td>0</td>\n",
       "      <td>0</td>\n",
       "    </tr>\n",
       "  </tbody>\n",
       "</table>\n",
       "<p>5 rows × 105 columns</p>\n",
       "</div>"
      ],
      "text/plain": [
       "      favorite_covered  expected_spread_favorite  weather_temperature  \\\n",
       "5982                 1                      -4.0                 50.0   \n",
       "4506                 0                      -6.5                 72.0   \n",
       "4946                 1                      -4.0                 74.0   \n",
       "3290                 0                      -2.5                 72.0   \n",
       "1315                 0                      -2.0                 56.0   \n",
       "\n",
       "      weather_wind_mph team_home_id team_away_id team_favorite_id  \\\n",
       "5982               5.0          PIT          CIN              PIT   \n",
       "4506               6.0          JAX           TB              JAX   \n",
       "4946              13.0           KC          SEA               KC   \n",
       "3290               0.0          MIN           NO              MIN   \n",
       "1315              16.0          LAC           KC              LAC   \n",
       "\n",
       "      week_number  team_home__ARI  team_home__ATL  ...  team_favorite__NYG  \\\n",
       "5982            4               0               0  ...                   0   \n",
       "4506           11               0               0  ...                   0   \n",
       "4946            5               0               0  ...                   0   \n",
       "3290           13               0               0  ...                   0   \n",
       "1315           16               0               0  ...                   0   \n",
       "\n",
       "      team_favorite__NYJ  team_favorite__PHI  team_favorite__PICK  \\\n",
       "5982                   0                   0                    0   \n",
       "4506                   0                   0                    0   \n",
       "4946                   0                   0                    0   \n",
       "3290                   0                   0                    0   \n",
       "1315                   0                   0                    0   \n",
       "\n",
       "      team_favorite__PIT  team_favorite__SEA  team_favorite__SF  \\\n",
       "5982                   1                   0                  0   \n",
       "4506                   0                   0                  0   \n",
       "4946                   0                   0                  0   \n",
       "3290                   0                   0                  0   \n",
       "1315                   0                   0                  0   \n",
       "\n",
       "      team_favorite__TB  team_favorite__TEN  team_favorite__WAS  \n",
       "5982                  0                   0                   0  \n",
       "4506                  0                   0                   0  \n",
       "4946                  0                   0                   0  \n",
       "3290                  0                   0                   0  \n",
       "1315                  0                   0                   0  \n",
       "\n",
       "[5 rows x 105 columns]"
      ]
     },
     "execution_count": 47,
     "metadata": {},
     "output_type": "execute_result"
    }
   ],
   "source": [
    "multi_test.head()"
   ]
  },
  {
   "cell_type": "markdown",
   "metadata": {},
   "source": [
    "**This function will allow me to perform repeated analysis on my model, by specifiying the accuracy threshold.**"
   ]
  },
  {
   "cell_type": "code",
   "execution_count": 48,
   "metadata": {},
   "outputs": [],
   "source": [
    "def analysis(test, actual_data, accuracy, bets, hits):\n",
    "    for i in range(len(test)):\n",
    "        if test[i] >= (0.5 + accuracy) or test[i] <= (0.5 - accuracy):\n",
    "            bets += 1\n",
    "        if test[i] >= (0.5 + accuracy) and actual_data[i] == 1:\n",
    "            hits += 1\n",
    "        if test[i] <= (0.5 - accuracy) and actual_data[i] == 0:\n",
    "            hits += 1\n",
    "    arr = [bets, hits]\n",
    "    return arr"
   ]
  },
  {
   "cell_type": "markdown",
   "metadata": {},
   "source": [
    "**This should return a multi-dimensional array with the first column being the probability the prediction is 0 and the second column being the probability is 1**"
   ]
  },
  {
   "cell_type": "code",
   "execution_count": 49,
   "metadata": {},
   "outputs": [],
   "source": [
    "predictions_probability_test = multi_model.predict_proba(multi_test[predictor_variables])[:,1]\n",
    "actual = list(multi_test['favorite_covered'])"
   ]
  },
  {
   "cell_type": "code",
   "execution_count": 53,
   "metadata": {},
   "outputs": [
    {
     "name": "stdout",
     "output_type": "stream",
     "text": [
      "[420, 213]\n"
     ]
    }
   ],
   "source": [
    "print(analysis(predictions_probability_test, actual, 0.05, scenario1_bets, scenario1_hits))"
   ]
  },
  {
   "cell_type": "code",
   "execution_count": 54,
   "metadata": {},
   "outputs": [
    {
     "name": "stdout",
     "output_type": "stream",
     "text": [
      "[119, 64]\n"
     ]
    }
   ],
   "source": [
    "print(analysis(predictions_probability_test, actual, 0.1, scenario2_bets, scenario2_hits))"
   ]
  },
  {
   "cell_type": "code",
   "execution_count": 55,
   "metadata": {},
   "outputs": [
    {
     "name": "stdout",
     "output_type": "stream",
     "text": [
      "[6, 5]\n"
     ]
    }
   ],
   "source": [
    "print(analysis(predictions_probability_test, actual, 0.2, scenario3_bets, scenario3_hits))"
   ]
  },
  {
   "cell_type": "markdown",
   "metadata": {},
   "source": [
    "**Results from test data**"
   ]
  },
  {
   "cell_type": "code",
   "execution_count": 56,
   "metadata": {},
   "outputs": [],
   "source": [
    "test_bets = [\n",
    "             analysis(predictions_probability_test, actual, 0.05, scenario1_bets, scenario1_hits)[0],\n",
    "             analysis(predictions_probability_test, actual, 0.1, scenario2_bets, scenario2_hits)[0],\n",
    "             analysis(predictions_probability_test, actual, 0.2, scenario3_bets, scenario3_hits)[0]\n",
    "            ]\n",
    "test_hits = [\n",
    "             analysis(predictions_probability_test, actual, 0.05, scenario1_bets, scenario1_hits)[1],\n",
    "             analysis(predictions_probability_test, actual, 0.1, scenario2_bets, scenario2_hits)[1],\n",
    "             analysis(predictions_probability_test, actual, 0.2, scenario3_bets, scenario3_hits)[1]\n",
    "            ]"
   ]
  },
  {
   "cell_type": "code",
   "execution_count": 57,
   "metadata": {},
   "outputs": [
    {
     "name": "stdout",
     "output_type": "stream",
     "text": [
      "Scenario 1:\n",
      "\tBets Placed: 420\n",
      "\tBets Hit: 213\n",
      "\tBet Percentage: 41.18%\n",
      "\tHit Percentage: 50.71%\n",
      "Scenario 2:\n",
      "\tBets Placed: 119\n",
      "\tBets Hit: 64\n",
      "\tBet Percentage: 11.67%\n",
      "\tHit Percentage: 53.78%\n",
      "Scenario 3:\n",
      "\tBets Placed: 6\n",
      "\tBets Hit: 5\n",
      "\tBet Percentage: 0.59%\n",
      "\tHit Percentage: 83.33%\n"
     ]
    }
   ],
   "source": [
    "for i in range(3):\n",
    "    print(\"Scenario {}:\".format(i+1))\n",
    "    print(\"\\tBets Placed: {}\".format(test_bets[i]))\n",
    "    print(\"\\tBets Hit: {}\".format(test_hits[i]))\n",
    "    print(\"\\tBet Percentage: {:.2%}\".format(test_bets[i]/total_test_games))\n",
    "    print(\"\\tHit Percentage: {:.2%}\".format(test_hits[i]/test_bets[i]))"
   ]
  },
  {
   "cell_type": "markdown",
   "metadata": {},
   "source": [
    "**Now I am going to run these same simulations on the 10 sets of test data and average the results**"
   ]
  },
  {
   "cell_type": "code",
   "execution_count": 58,
   "metadata": {},
   "outputs": [],
   "source": [
    "scen1_bets, scen1_hits, scen2_bets, scen2_hits, scen3_bets, scen3_hits = 0,0,0,0,0,0\n",
    "for i in range(10):\n",
    "    new_train, new_test = train_test_split(model_df, test_size = 0.1)\n",
    "    predictions_prob = multi_model.predict_proba(new_test[predictor_variables])[:,1]\n",
    "    total_games = len(multi_test)\n",
    "    scenario1_bets, scenario1_hits, scenario2_bets, scenario2_hits, scenario3_bets, scenario3_hits, = 0,0,0,0,0,0\n",
    "    \n",
    "    scen1_bets += analysis(predictions_prob, actual, 0.05, scenario1_bets, scenario1_hits)[0]\n",
    "    scen1_hits += analysis(predictions_prob, actual, 0.05, scenario1_bets, scenario1_hits)[1]\n",
    "    scen2_bets += analysis(predictions_prob, actual, 0.1, scenario2_bets, scenario2_hits)[0]\n",
    "    scen2_hits += analysis(predictions_prob, actual, 0.1, scenario2_bets, scenario2_hits)[1]\n",
    "    scen3_bets += analysis(predictions_prob, actual, 0.2, scenario3_bets, scenario3_hits)[0]\n",
    "    scen3_hits += analysis(predictions_prob, actual, 0.2, scenario3_bets, scenario3_hits)[1]"
   ]
  },
  {
   "cell_type": "code",
   "execution_count": 59,
   "metadata": {},
   "outputs": [],
   "source": [
    "iter_total_bets = [scen1_bets, scen2_bets, scen3_bets]\n",
    "iter_total_hits = [scen1_hits, scen2_hits, scen3_hits]"
   ]
  },
  {
   "cell_type": "code",
   "execution_count": 60,
   "metadata": {},
   "outputs": [
    {
     "name": "stdout",
     "output_type": "stream",
     "text": [
      "Scenario 1:\n",
      "\tTotal Bets Placed: 4470\n",
      "\tTotal Bets Hit: 2340\n",
      "\tAverage Bet Percentage: 43.82%\n",
      "\tAverage Hit Percentage: 52.35%\n",
      "Scenario 2:\n",
      "\tTotal Bets Placed: 1125\n",
      "\tTotal Bets Hit: 623\n",
      "\tAverage Bet Percentage: 11.03%\n",
      "\tAverage Hit Percentage: 55.38%\n",
      "Scenario 3:\n",
      "\tTotal Bets Placed: 79\n",
      "\tTotal Bets Hit: 52\n",
      "\tAverage Bet Percentage: 0.77%\n",
      "\tAverage Hit Percentage: 65.82%\n"
     ]
    }
   ],
   "source": [
    "for i in range(3):\n",
    "    print(\"Scenario {}:\".format(i+1))\n",
    "    print(\"\\tTotal Bets Placed: {}\".format(iter_total_bets[i]))\n",
    "    print(\"\\tTotal Bets Hit: {}\".format(iter_total_hits[i]))\n",
    "    print(\"\\tAverage Bet Percentage: {:.2%}\".format(iter_total_bets[i] / (total_test_games * 10)))\n",
    "    print(\"\\tAverage Hit Percentage: {:.2%}\".format(iter_total_hits[i] / iter_total_bets[i]))"
   ]
  },
  {
   "cell_type": "markdown",
   "metadata": {},
   "source": [
    "If I chose to bet 10$ on every game, what would have happened?"
   ]
  },
  {
   "cell_type": "code",
   "execution_count": 61,
   "metadata": {},
   "outputs": [
    {
     "name": "stdout",
     "output_type": "stream",
     "text": [
      "Profit with $10 Unit = $6300\n"
     ]
    }
   ],
   "source": [
    "revenue = 0\n",
    "cost = 0\n",
    "for i in range(3):\n",
    "    revenue += iter_total_hits[0] * 10\n",
    "    cost += (iter_total_bets[0] - iter_total_hits[0]) * 10\n",
    "profit = revenue - cost\n",
    "print('Profit with $10 Unit = ${}'.format(profit))"
   ]
  },
  {
   "cell_type": "markdown",
   "metadata": {},
   "source": [
    "There are 267 games in an nfl season, so how much on average would I make in 1 season using all three scenarios?"
   ]
  },
  {
   "cell_type": "code",
   "execution_count": 62,
   "metadata": {},
   "outputs": [
    {
     "name": "stdout",
     "output_type": "stream",
     "text": [
      "Average Profit per Season with a $10 unit = $1649.12\n"
     ]
    }
   ],
   "source": [
    "seasons = total_test_games / 267\n",
    "profit_per_szn = profit / seasons\n",
    "print('Average Profit per Season with a $10 unit = ${:.2f}'.format(profit_per_szn))"
   ]
  },
  {
   "cell_type": "markdown",
   "metadata": {},
   "source": [
    "**Now I want to test what would happen if I just bet on the favorite every time or on the underdog everytime**"
   ]
  },
  {
   "cell_type": "code",
   "execution_count": 63,
   "metadata": {},
   "outputs": [],
   "source": [
    "favorite_every_time = 0\n",
    "dog_every_time = 0\n",
    "for index, row in nfl_spreadspoke.iterrows():\n",
    "    if row['favorite_covered'] == True:\n",
    "        favorite_every_time += 1\n",
    "    else:\n",
    "        dog_every_time += 1"
   ]
  },
  {
   "cell_type": "code",
   "execution_count": 64,
   "metadata": {
    "scrolled": true
   },
   "outputs": [
    {
     "name": "stdout",
     "output_type": "stream",
     "text": [
      "Favorite Percent = 46.85%\n",
      "Dog Percent = 53.15%\n"
     ]
    }
   ],
   "source": [
    "print('Favorite Percent = {:.2%}'.format(favorite_every_time / len(nfl_spreadspoke['favorite_covered'])))\n",
    "print('Dog Percent = {:.2%}'.format(dog_every_time / len(nfl_spreadspoke['favorite_covered'])))"
   ]
  },
  {
   "cell_type": "markdown",
   "metadata": {},
   "source": [
    "**Takeaway from this analysis: Both my scenario 2 and scenario 3 models outperform just betting on the underdog everytime.**"
   ]
  },
  {
   "cell_type": "markdown",
   "metadata": {},
   "source": [
    "## Interpretations and Conclusions"
   ]
  },
  {
   "cell_type": "markdown",
   "metadata": {},
   "source": [
    "During my analysis I created a model that can accurately predict over the long-term winners of NFL games based on the spread. In my opinion, this is a success. The model would be intended for long-term use, meaning that it would need to be implemented over an entire season or more for value to be truly recognized"
   ]
  },
  {
   "cell_type": "markdown",
   "metadata": {},
   "source": [
    "The analysis found that if I simply chose to bet the favorite every time or the underdog every time, I would be successful 47% and 53% of the time respectively. Long-term, this strategy is not viable."
   ]
  },
  {
   "cell_type": "markdown",
   "metadata": {},
   "source": [
    "Upon creation of my model, I ran a single test to determine how successful I would be with three confidence thresholds. In one scenario, I told the model to make a \"bet\" if it was either more than 55% confident the favorite would cover or less than 45% confident. If it was more than 55%, it would bet on the favorite, and if it was less than 45%, it would bet on the underdog. Using this system, the model determined I should bet around 45% of the time and resulted in a success rate of 53.41%."
   ]
  },
  {
   "cell_type": "markdown",
   "metadata": {},
   "source": [
    "The second scenario required more confidence in order to make a bet. The model was only supposed to \"bet\" if the confidence was greater than 60% or less than 40%. The model decided to bet on 11% of the games with a success rate of 61.4%"
   ]
  },
  {
   "cell_type": "markdown",
   "metadata": {},
   "source": [
    "The last scenario required the greatest amount of confidence: greater than 70% or less than 30%. This scenario resulted in a tiny bet percentage, 0.88%, but hit almost 67% of the time."
   ]
  },
  {
   "cell_type": "markdown",
   "metadata": {},
   "source": [
    "However, these results were from just one set of testing data. To be more confident, I ran 10 more simulations on random testing data, using the same scenarios as the first time. On average, scenario 1 resulted in betting 45% of games and hitting 51% of the time. Scenario 2 on average resulted in betting 11% of the games and hitting 55% of the time. Scenario 3 resulted in betting on average 0.68% of the games and hitting almost 60% of the time."
   ]
  },
  {
   "cell_type": "markdown",
   "metadata": {},
   "source": [
    "Finally, I wanted to determine how profitable I would be if I used this model long-term. I calculated, on average, if my unit was betting ten dollars a game, I would profit 966 dollars every season."
   ]
  },
  {
   "cell_type": "markdown",
   "metadata": {},
   "source": [
    "I am pretty confident in my results because of the many simulations I have run to determine that the results are not a fluke. With any gambling model, you do not need an extremely high hit percentage, you just need a large enough margin to be profitable long-term. I think I have successfully achieved such a model and am excited to attempt to use it this current NFL season."
   ]
  },
  {
   "cell_type": "markdown",
   "metadata": {},
   "source": [
    "## Limitations"
   ]
  },
  {
   "cell_type": "markdown",
   "metadata": {},
   "source": [
    "The main limitation of my study is that I am using historical team data. This means that the model is taking into account a teams historical performances against the spread and using it to determine what will happen in the future. However, this might not always be a great way to use the data. For example, the Clevland Browns are a historically bad franchise; however, they have a very good team right now. Therefore, the model might not account for the Browns turing their team around."
   ]
  },
  {
   "cell_type": "markdown",
   "metadata": {},
   "source": [
    "Another limitation is that I only have high level statistics. I have the home and away teams as well as the schedule week and weather. However, these stats are not indicative of what will happen during the actual course of the game. If the dataset was larger, I could have included the teams individual record at the time of the game and player statistics. For example, if a team has the leagues MVP, that will probably affect how often they cover a spread. The dataset also could be more robust by including player injuries. Injuries often have large impacts on teams throughout the course of the season, yet my model does not account for any of them."
   ]
  },
  {
   "cell_type": "markdown",
   "metadata": {},
   "source": [
    "Finally, there is a bias in my data cleaning that affects my overall outcome model. I remove many columns in the original data set such as weather type (such as rain, snow, cloudy, etc.) and the over/under line that I assumed did not matter and did not want to analyze. In football, the over/under line is another gambling line that allows viewers to bet on the total amount of points scored in a particular game. I now think that this line would have a noticable effect on the outcome of the spread because if the spread is set high (ie. -14) and the over/under line is only 38, it will be very difficult for the favorite to cover because they must score pretty much all the points in the game."
   ]
  },
  {
   "cell_type": "markdown",
   "metadata": {},
   "source": [
    "## Source Code"
   ]
  },
  {
   "cell_type": "markdown",
   "metadata": {},
   "source": [
    "I do not have a github repo. All my code is in this file or in the appendix I am submitting that contains my data cleaning description"
   ]
  },
  {
   "cell_type": "markdown",
   "metadata": {},
   "source": [
    "## Acknowledements"
   ]
  },
  {
   "cell_type": "markdown",
   "metadata": {},
   "source": [
    "In creating this project, I used countless stack overflow pages, pandas and numpy documentation, and several medium tutorials. I also used a similar kaggle betting model to give me inspiration for my own model https://www.kaggle.com/twalters20/nfl-betting-model."
   ]
  }
 ],
 "metadata": {
  "kernelspec": {
   "display_name": "Python 3",
   "language": "python",
   "name": "python3"
  },
  "language_info": {
   "codemirror_mode": {
    "name": "ipython",
    "version": 3
   },
   "file_extension": ".py",
   "mimetype": "text/x-python",
   "name": "python",
   "nbconvert_exporter": "python",
   "pygments_lexer": "ipython3",
   "version": "3.7.4"
  }
 },
 "nbformat": 4,
 "nbformat_minor": 2
}
